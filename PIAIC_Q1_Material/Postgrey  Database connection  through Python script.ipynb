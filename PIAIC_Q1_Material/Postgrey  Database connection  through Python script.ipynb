{
 "cells": [
  {
   "cell_type": "code",
   "execution_count": 1,
   "id": "61b2078d",
   "metadata": {},
   "outputs": [],
   "source": [
    "import psycopg2"
   ]
  },
  {
   "cell_type": "code",
   "execution_count": 2,
   "id": "fa238ec9",
   "metadata": {},
   "outputs": [],
   "source": [
    "server='localhost'\n",
    "db = 'employee'\n",
    "username = 'postgres'\n",
    "pw = 'Bakhtawar@123'\n",
    "portno = 5432"
   ]
  },
  {
   "cell_type": "code",
   "execution_count": 4,
   "id": "2b068b0a",
   "metadata": {},
   "outputs": [],
   "source": [
    "conn = None\n",
    "cur = None\n",
    "\n",
    "try:\n",
    "    conn=psycopg2.connect(host=server, dbname=db, user=username, password=pw, port=portno)\n",
    "    cur=conn.cursor()\n",
    "    \n",
    "    drop_table='DROP TABLE IF EXISTS TELENOR'\n",
    "    cur.execute(drop_table)\n",
    "    \n",
    "    create_table= '''\n",
    "    CREATE TABLE IF NOT EXISTS TELENOR(\n",
    "    ID INT PRIMARY KEY NOT NULL,\n",
    "    NAME VARCHAR(40) NOT NULL,\n",
    "    SALARY INT NOT NULL,\n",
    "    DEPARTMENT VARCHAR(40))'''\n",
    "    cur.execute(create_table)\n",
    "    \n",
    "  \n",
    "    insert_data= '''INSERT INTO TELENOR (ID,NAME,SALARY,DEPARTMENT) VALUES(701,'bazil',121942,'SOC')'''\n",
    "    cur.execute(insert_data)\n",
    "    insert_data= '''INSERT INTO TELENOR (ID,NAME,SALARY,DEPARTMENT) VALUES(702,'Ayesha',324509,'SOC')'''\n",
    "    cur.execute(insert_data)\n",
    "    \n",
    "    conn.commit()\n",
    "except Exception as e:\n",
    "    print(\"exception detected : \" + str(e))\n",
    "    \n",
    "else:\n",
    "    pass\n",
    "\n",
    "finally:\n",
    "    if conn is not None:\n",
    "        conn.close()\n",
    "    if cur is not None:\n",
    "        cur.close()"
   ]
  },
  {
   "cell_type": "code",
   "execution_count": null,
   "id": "e74f6de4",
   "metadata": {},
   "outputs": [],
   "source": [
    "###############to insert multiple records################"
   ]
  },
  {
   "cell_type": "code",
   "execution_count": 6,
   "id": "a03e5a7c",
   "metadata": {},
   "outputs": [],
   "source": [
    "import psycopg2\n",
    "import psycopg2.extras"
   ]
  },
  {
   "cell_type": "code",
   "execution_count": 23,
   "id": "17280eab",
   "metadata": {},
   "outputs": [],
   "source": [
    "conn = None\n",
    "cur = None\n",
    "\n",
    "try:\n",
    "    conn=psycopg2.connect(host=server, dbname=db, user=username, password=pw, port=portno)\n",
    "    cur=conn.cursor(cursor_factory=psycopg2.extras.DictCursor)\n",
    "    \n",
    "    drop_table='DROP TABLE IF EXISTS TELENOR'\n",
    "    cur.execute(drop_table)\n",
    "    \n",
    "    create_table= '''\n",
    "    CREATE TABLE IF NOT EXISTS TELENOR(\n",
    "    ID INT PRIMARY KEY NOT NULL,\n",
    "    NAME VARCHAR(40) NOT NULL,\n",
    "    SALARY INT NOT NULL,\n",
    "    DEPARTMENT VARCHAR(40))'''\n",
    "    cur.execute(create_table)\n",
    "    \n",
    "  \n",
    "    insert_data= '''\n",
    "    INSERT INTO TELENOR (ID,NAME,SALARY,DEPARTMENT)\n",
    "    VALUES(%s,%s,%s,%s)\n",
    "    '''\n",
    "    \n",
    "    values=[\n",
    "        (321,'areeb',654369,'mobilink'),\n",
    "        (322,'bazil',546325,'jazz'),\n",
    "        (323,'Ayesha',356451,'Warid'),\n",
    "        (324,'rozi',741852,'burjeel')]\n",
    "    for each in values:\n",
    "        cur.execute(insert_data,each)\n",
    "    \n",
    "    \n",
    "    update_table=''' UPDATE TELENOR SET SALARY=SALARY + (SALARY *0.5)'''\n",
    "    cur.execute(update_table)\n",
    "    \n",
    "    ########del_table=''' \n",
    "    ############DELETE FROM TELENOR WHERE NAME='rozi'\n",
    "   ######## '''\n",
    "   ######### cur.execute(del_table)\n",
    "    \n",
    "    ###############another way to delte multpli names\n",
    "    \n",
    "    del_table=''' \n",
    "    DELETE FROM TELENOR WHERE NAME=%s\n",
    "    '''\n",
    "    del_name=(\"bazil\",)\n",
    "    cur.execute(del_table,del_name)\n",
    "    \n",
    "    \n",
    "    \n",
    "    \n",
    "    conn.commit()\n",
    "except Exception as e:\n",
    "    print(\"exception detected : \" + str(e))\n",
    "    \n",
    "else:\n",
    "    pass\n",
    "\n",
    "finally:\n",
    "    if conn is not None:\n",
    "        conn.close()\n",
    "    if cur is not None:\n",
    "        cur.close()"
   ]
  },
  {
   "cell_type": "code",
   "execution_count": null,
   "id": "e1a5d6b0",
   "metadata": {},
   "outputs": [],
   "source": []
  },
  {
   "cell_type": "code",
   "execution_count": null,
   "id": "06eea7ce",
   "metadata": {},
   "outputs": [],
   "source": []
  },
  {
   "cell_type": "code",
   "execution_count": null,
   "id": "4b4c0d84",
   "metadata": {},
   "outputs": [],
   "source": []
  },
  {
   "cell_type": "code",
   "execution_count": null,
   "id": "99ded170",
   "metadata": {},
   "outputs": [],
   "source": []
  }
 ],
 "metadata": {
  "kernelspec": {
   "display_name": "Python 3 (ipykernel)",
   "language": "python",
   "name": "python3"
  },
  "language_info": {
   "codemirror_mode": {
    "name": "ipython",
    "version": 3
   },
   "file_extension": ".py",
   "mimetype": "text/x-python",
   "name": "python",
   "nbconvert_exporter": "python",
   "pygments_lexer": "ipython3",
   "version": "3.9.13"
  }
 },
 "nbformat": 4,
 "nbformat_minor": 5
}
