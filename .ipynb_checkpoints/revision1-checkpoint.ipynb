{
 "cells": [
  {
   "cell_type": "markdown",
   "id": "8a5ea13c",
   "metadata": {},
   "source": [
    "# Introduction to Python"
   ]
  },
  {
   "cell_type": "code",
   "execution_count": 2,
   "id": "83253df2",
   "metadata": {},
   "outputs": [],
   "source": [
    "a,b,c=10,20,30"
   ]
  },
  {
   "cell_type": "code",
   "execution_count": 10,
   "id": "9be50f59",
   "metadata": {},
   "outputs": [
    {
     "name": "stdout",
     "output_type": "stream",
     "text": [
      "10   seprator  20   seprator  30   end 30   sp 20   sp 30  tab   20 30 10\n"
     ]
    }
   ],
   "source": [
    "print(a,b,c,sep=\"   seprator  \",end= \"   end \")\n",
    "print(c,b,c, end= \"  tab   \", sep = \"   sp \")\n",
    "print(b,c,a)"
   ]
  },
  {
   "cell_type": "code",
   "execution_count": 11,
   "id": "cf79a10e",
   "metadata": {},
   "outputs": [],
   "source": [
    "c=5\n",
    "d=3"
   ]
  },
  {
   "cell_type": "code",
   "execution_count": 16,
   "id": "8913f9c0",
   "metadata": {},
   "outputs": [
    {
     "name": "stdout",
     "output_type": "stream",
     "text": [
      "0b101\n",
      "0b11\n"
     ]
    }
   ],
   "source": [
    "print(bin(c))\n",
    "print(bin(d))"
   ]
  },
  {
   "cell_type": "code",
   "execution_count": 22,
   "id": "582af429",
   "metadata": {},
   "outputs": [
    {
     "name": "stdout",
     "output_type": "stream",
     "text": [
      "1\n"
     ]
    }
   ],
   "source": [
    "d=c&d\n",
    "print(d)"
   ]
  },
  {
   "cell_type": "code",
   "execution_count": 24,
   "id": "b773f057",
   "metadata": {},
   "outputs": [
    {
     "ename": "SyntaxError",
     "evalue": "invalid syntax (2931653963.py, line 1)",
     "output_type": "error",
     "traceback": [
      "\u001b[1;36m  File \u001b[1;32m\"C:\\Users\\admin\\AppData\\Local\\Temp\\ipykernel_6116\\2931653963.py\"\u001b[1;36m, line \u001b[1;32m1\u001b[0m\n\u001b[1;33m    print(c&=d)\u001b[0m\n\u001b[1;37m           ^\u001b[0m\n\u001b[1;31mSyntaxError\u001b[0m\u001b[1;31m:\u001b[0m invalid syntax\n"
     ]
    }
   ],
   "source": [
    "print(c&=d)"
   ]
  },
  {
   "cell_type": "code",
   "execution_count": 36,
   "id": "8bfc18cf",
   "metadata": {},
   "outputs": [],
   "source": [
    "a=11\n",
    "b=11\n",
    "c=b"
   ]
  },
  {
   "cell_type": "code",
   "execution_count": 37,
   "id": "22ca483c",
   "metadata": {},
   "outputs": [
    {
     "data": {
      "text/plain": [
       "True"
      ]
     },
     "execution_count": 37,
     "metadata": {},
     "output_type": "execute_result"
    }
   ],
   "source": [
    "c is b"
   ]
  },
  {
   "cell_type": "code",
   "execution_count": 38,
   "id": "d6a46043",
   "metadata": {},
   "outputs": [],
   "source": [
    "b=3"
   ]
  },
  {
   "cell_type": "code",
   "execution_count": 39,
   "id": "5a11d6d0",
   "metadata": {},
   "outputs": [
    {
     "data": {
      "text/plain": [
       "False"
      ]
     },
     "execution_count": 39,
     "metadata": {},
     "output_type": "execute_result"
    }
   ],
   "source": [
    " c is b\n",
    "    "
   ]
  },
  {
   "cell_type": "code",
   "execution_count": 40,
   "id": "36d73b5c",
   "metadata": {},
   "outputs": [
    {
     "data": {
      "text/plain": [
       "11"
      ]
     },
     "execution_count": 40,
     "metadata": {},
     "output_type": "execute_result"
    }
   ],
   "source": [
    "c"
   ]
  },
  {
   "cell_type": "code",
   "execution_count": 41,
   "id": "d8de2f84",
   "metadata": {},
   "outputs": [
    {
     "data": {
      "text/plain": [
       "3"
      ]
     },
     "execution_count": 41,
     "metadata": {},
     "output_type": "execute_result"
    }
   ],
   "source": [
    "b"
   ]
  },
  {
   "cell_type": "code",
   "execution_count": 42,
   "id": "5b7d8f00",
   "metadata": {},
   "outputs": [],
   "source": [
    "a=[1,2,3]"
   ]
  },
  {
   "cell_type": "code",
   "execution_count": 43,
   "id": "2f351668",
   "metadata": {},
   "outputs": [],
   "source": [
    "b=a"
   ]
  },
  {
   "cell_type": "code",
   "execution_count": 44,
   "id": "1080cf78",
   "metadata": {},
   "outputs": [
    {
     "data": {
      "text/plain": [
       "True"
      ]
     },
     "execution_count": 44,
     "metadata": {},
     "output_type": "execute_result"
    }
   ],
   "source": [
    "a is b\n"
   ]
  },
  {
   "cell_type": "code",
   "execution_count": 45,
   "id": "6516b9f7",
   "metadata": {},
   "outputs": [],
   "source": [
    "c=[1,2,3]"
   ]
  },
  {
   "cell_type": "code",
   "execution_count": 46,
   "id": "a84f105d",
   "metadata": {},
   "outputs": [
    {
     "data": {
      "text/plain": [
       "False"
      ]
     },
     "execution_count": 46,
     "metadata": {},
     "output_type": "execute_result"
    }
   ],
   "source": [
    "c is b"
   ]
  },
  {
   "cell_type": "code",
   "execution_count": 53,
   "id": "a91968ef",
   "metadata": {},
   "outputs": [
    {
     "name": "stdout",
     "output_type": "stream",
     "text": [
      "-25\n"
     ]
    }
   ],
   "source": [
    "print(~24)"
   ]
  },
  {
   "cell_type": "code",
   "execution_count": 54,
   "id": "0c93caab",
   "metadata": {},
   "outputs": [
    {
     "name": "stdout",
     "output_type": "stream",
     "text": [
      "21\n"
     ]
    }
   ],
   "source": [
    "print(23&29)"
   ]
  },
  {
   "cell_type": "code",
   "execution_count": 55,
   "id": "612913a6",
   "metadata": {},
   "outputs": [
    {
     "name": "stdout",
     "output_type": "stream",
     "text": [
      "31\n"
     ]
    }
   ],
   "source": [
    "print(23|29)"
   ]
  },
  {
   "cell_type": "code",
   "execution_count": 56,
   "id": "f3c1f758",
   "metadata": {},
   "outputs": [
    {
     "name": "stdout",
     "output_type": "stream",
     "text": [
      "10\n"
     ]
    }
   ],
   "source": [
    "print(23^29)"
   ]
  },
  {
   "cell_type": "code",
   "execution_count": 57,
   "id": "6ab9eda5",
   "metadata": {},
   "outputs": [
    {
     "name": "stdout",
     "output_type": "stream",
     "text": [
      "-30\n"
     ]
    }
   ],
   "source": [
    "print(~29)"
   ]
  },
  {
   "cell_type": "code",
   "execution_count": 58,
   "id": "cee30786",
   "metadata": {},
   "outputs": [
    {
     "name": "stdout",
     "output_type": "stream",
     "text": [
      "40\n"
     ]
    }
   ],
   "source": [
    "print(10<<2)"
   ]
  },
  {
   "cell_type": "code",
   "execution_count": 59,
   "id": "328a4ac1",
   "metadata": {},
   "outputs": [
    {
     "name": "stdout",
     "output_type": "stream",
     "text": [
      "2\n"
     ]
    }
   ],
   "source": [
    "print(10>>2)"
   ]
  },
  {
   "cell_type": "code",
   "execution_count": 3,
   "id": "b5c3f134",
   "metadata": {},
   "outputs": [
    {
     "name": "stdout",
     "output_type": "stream",
     "text": [
      "My name is\tkhan\n"
     ]
    }
   ],
   "source": [
    "print(\"My name is\\tkhan\")"
   ]
  },
  {
   "cell_type": "code",
   "execution_count": 5,
   "id": "49e96aa8",
   "metadata": {},
   "outputs": [
    {
     "name": "stdout",
     "output_type": "stream",
     "text": [
      "My name is\\tkhan\n"
     ]
    }
   ],
   "source": [
    "print(\"My name is\\\\khan\")"
   ]
  },
  {
   "cell_type": "code",
   "execution_count": 6,
   "id": "d1f4553a",
   "metadata": {},
   "outputs": [
    {
     "name": "stdout",
     "output_type": "stream",
     "text": [
      "My name is'tkhan\n"
     ]
    }
   ],
   "source": [
    "print(\"My name is\\'tkhan\")"
   ]
  },
  {
   "cell_type": "code",
   "execution_count": 7,
   "id": "72a50905",
   "metadata": {},
   "outputs": [
    {
     "name": "stdout",
     "output_type": "stream",
     "text": [
      "My name is'tkhan\n"
     ]
    }
   ],
   "source": [
    "print(\"My name is'tkhan\")"
   ]
  },
  {
   "cell_type": "code",
   "execution_count": 9,
   "id": "dae732cd",
   "metadata": {},
   "outputs": [
    {
     "name": "stdout",
     "output_type": "stream",
     "text": [
      "My name is\n",
      "khan\n"
     ]
    }
   ],
   "source": [
    "print(\"My name is\\nkhan\")"
   ]
  },
  {
   "cell_type": "code",
   "execution_count": 10,
   "id": "f2a4c3b8",
   "metadata": {},
   "outputs": [
    {
     "name": "stdout",
     "output_type": "stream",
     "text": [
      "My name is\bkhan\n"
     ]
    }
   ],
   "source": [
    "print(\"My name is\\bkhan\")"
   ]
  },
  {
   "cell_type": "code",
   "execution_count": 11,
   "id": "9ab42b14",
   "metadata": {},
   "outputs": [
    {
     "name": "stdout",
     "output_type": "stream",
     "text": [
      "My name is\f",
      "khan\n"
     ]
    }
   ],
   "source": [
    "print(\"My name is\\fkhan\")"
   ]
  },
  {
   "cell_type": "code",
   "execution_count": 16,
   "id": "ba448df3",
   "metadata": {},
   "outputs": [
    {
     "name": "stdout",
     "output_type": "stream",
     "text": [
      "\u0012345\u00121\u00112\n"
     ]
    }
   ],
   "source": [
    "print(\"\\x123\\x345\\x121\\x112\")"
   ]
  },
  {
   "cell_type": "code",
   "execution_count": 19,
   "id": "33426d0b",
   "metadata": {},
   "outputs": [],
   "source": [
    "a=2\n",
    "v=3"
   ]
  },
  {
   "cell_type": "code",
   "execution_count": 20,
   "id": "16c65073",
   "metadata": {},
   "outputs": [
    {
     "name": "stdout",
     "output_type": "stream",
     "text": [
      "<class 'int'>\n"
     ]
    }
   ],
   "source": [
    "print(type(a))"
   ]
  },
  {
   "cell_type": "code",
   "execution_count": 21,
   "id": "cefcc08a",
   "metadata": {},
   "outputs": [
    {
     "name": "stdout",
     "output_type": "stream",
     "text": [
      "1778726037840\n"
     ]
    }
   ],
   "source": [
    "print(id(a))"
   ]
  },
  {
   "cell_type": "code",
   "execution_count": 22,
   "id": "65a7b6f6",
   "metadata": {},
   "outputs": [],
   "source": [
    "a+=10"
   ]
  },
  {
   "cell_type": "code",
   "execution_count": 23,
   "id": "ae8b6d84",
   "metadata": {},
   "outputs": [
    {
     "name": "stdout",
     "output_type": "stream",
     "text": [
      "12\n"
     ]
    }
   ],
   "source": [
    "print(a)"
   ]
  },
  {
   "cell_type": "code",
   "execution_count": 24,
   "id": "44c8c958",
   "metadata": {},
   "outputs": [
    {
     "name": "stdout",
     "output_type": "stream",
     "text": [
      "1778726038160\n"
     ]
    }
   ],
   "source": [
    "print(id(a))"
   ]
  },
  {
   "cell_type": "code",
   "execution_count": 25,
   "id": "808c622c",
   "metadata": {},
   "outputs": [
    {
     "name": "stdout",
     "output_type": "stream",
     "text": [
      "Enter your namemuneeb\n",
      "enter your age44\n",
      " your name is muneeb and your age is 44years\n"
     ]
    }
   ],
   "source": [
    "name= input(\"Enter your name\")\n",
    "age=int(float(input(\"enter your age\")))\n",
    "print(\" your name is \" + name + \" and your age is \"+ str(age) + \"years\")"
   ]
  },
  {
   "cell_type": "code",
   "execution_count": 30,
   "id": "f21d0e35",
   "metadata": {},
   "outputs": [
    {
     "name": "stdout",
     "output_type": "stream",
     "text": [
      "your name is 12 and and your age is Muneeb\n"
     ]
    }
   ],
   "source": [
    "print(\"your name is {1} and and your age is {0}\". format(\"Muneeb\",12))"
   ]
  },
  {
   "cell_type": "code",
   "execution_count": 31,
   "id": "035ac5f7",
   "metadata": {},
   "outputs": [
    {
     "data": {
      "text/plain": [
       "'Muneeb'"
      ]
     },
     "execution_count": 31,
     "metadata": {},
     "output_type": "execute_result"
    }
   ],
   "source": [
    "\"Mu{}ee{}\".format(\"n\",\"b\")"
   ]
  },
  {
   "cell_type": "code",
   "execution_count": 32,
   "id": "af7bac6a",
   "metadata": {},
   "outputs": [],
   "source": [
    "a=\"Pakistan meri Jaan\""
   ]
  },
  {
   "cell_type": "code",
   "execution_count": 33,
   "id": "280272e4",
   "metadata": {},
   "outputs": [
    {
     "data": {
      "text/plain": [
       "'Pakistan meri jaan'"
      ]
     },
     "execution_count": 33,
     "metadata": {},
     "output_type": "execute_result"
    }
   ],
   "source": [
    "a.capitalize()"
   ]
  },
  {
   "cell_type": "code",
   "execution_count": 34,
   "id": "c1f4fbc5",
   "metadata": {},
   "outputs": [
    {
     "data": {
      "text/plain": [
       "'pakistan meri jaan'"
      ]
     },
     "execution_count": 34,
     "metadata": {},
     "output_type": "execute_result"
    }
   ],
   "source": [
    "a.casefold()"
   ]
  },
  {
   "cell_type": "code",
   "execution_count": 37,
   "id": "e1dd6118",
   "metadata": {},
   "outputs": [
    {
     "data": {
      "text/plain": [
       "'                                                    Pakistan meri Jaan                                                    '"
      ]
     },
     "execution_count": 37,
     "metadata": {},
     "output_type": "execute_result"
    }
   ],
   "source": [
    "a.center(122)"
   ]
  },
  {
   "cell_type": "code",
   "execution_count": 38,
   "id": "d7722742",
   "metadata": {},
   "outputs": [
    {
     "data": {
      "text/plain": [
       "4"
      ]
     },
     "execution_count": 38,
     "metadata": {},
     "output_type": "execute_result"
    }
   ],
   "source": [
    "a.count(\"a\")"
   ]
  },
  {
   "cell_type": "code",
   "execution_count": 41,
   "id": "ba4ad9ca",
   "metadata": {},
   "outputs": [
    {
     "data": {
      "text/plain": [
       "False"
      ]
     },
     "execution_count": 41,
     "metadata": {},
     "output_type": "execute_result"
    }
   ],
   "source": [
    "a.endswith(\"a\")"
   ]
  },
  {
   "cell_type": "code",
   "execution_count": 46,
   "id": "43592493",
   "metadata": {},
   "outputs": [
    {
     "data": {
      "text/plain": [
       "6"
      ]
     },
     "execution_count": 46,
     "metadata": {},
     "output_type": "execute_result"
    }
   ],
   "source": [
    "a.find(\"a\",2)"
   ]
  },
  {
   "cell_type": "code",
   "execution_count": 47,
   "id": "b4edee55",
   "metadata": {},
   "outputs": [
    {
     "data": {
      "text/plain": [
       "'Pakistan meri Jaan'"
      ]
     },
     "execution_count": 47,
     "metadata": {},
     "output_type": "execute_result"
    }
   ],
   "source": [
    "a.format(\"Teleeenen\")"
   ]
  },
  {
   "cell_type": "code",
   "execution_count": 51,
   "id": "85a3f884",
   "metadata": {},
   "outputs": [
    {
     "ename": "ValueError",
     "evalue": "substring not found",
     "output_type": "error",
     "traceback": [
      "\u001b[1;31m---------------------------------------------------------------------------\u001b[0m",
      "\u001b[1;31mValueError\u001b[0m                                Traceback (most recent call last)",
      "\u001b[1;32m~\\AppData\\Local\\Temp\\ipykernel_7488\\1577948722.py\u001b[0m in \u001b[0;36m<module>\u001b[1;34m\u001b[0m\n\u001b[1;32m----> 1\u001b[1;33m \u001b[0ma\u001b[0m\u001b[1;33m.\u001b[0m\u001b[0mindex\u001b[0m\u001b[1;33m(\u001b[0m\u001b[1;34m\"M\"\u001b[0m\u001b[1;33m)\u001b[0m\u001b[1;33m\u001b[0m\u001b[1;33m\u001b[0m\u001b[0m\n\u001b[0m",
      "\u001b[1;31mValueError\u001b[0m: substring not found"
     ]
    }
   ],
   "source": [
    "a.index(\"M\")"
   ]
  },
  {
   "cell_type": "code",
   "execution_count": 52,
   "id": "4d7f634a",
   "metadata": {},
   "outputs": [
    {
     "data": {
      "text/plain": [
       "False"
      ]
     },
     "execution_count": 52,
     "metadata": {},
     "output_type": "execute_result"
    }
   ],
   "source": [
    "a.isalnum()"
   ]
  },
  {
   "cell_type": "code",
   "execution_count": 53,
   "id": "f5219ed1",
   "metadata": {},
   "outputs": [
    {
     "data": {
      "text/plain": [
       "False"
      ]
     },
     "execution_count": 53,
     "metadata": {},
     "output_type": "execute_result"
    }
   ],
   "source": [
    "a.isalpha()"
   ]
  },
  {
   "cell_type": "code",
   "execution_count": 54,
   "id": "f140fe26",
   "metadata": {},
   "outputs": [
    {
     "data": {
      "text/plain": [
       "True"
      ]
     },
     "execution_count": 54,
     "metadata": {},
     "output_type": "execute_result"
    }
   ],
   "source": [
    "a.isascii()"
   ]
  },
  {
   "cell_type": "code",
   "execution_count": 55,
   "id": "861020e4",
   "metadata": {},
   "outputs": [
    {
     "data": {
      "text/plain": [
       "False"
      ]
     },
     "execution_count": 55,
     "metadata": {},
     "output_type": "execute_result"
    }
   ],
   "source": [
    "a.isdecimal()"
   ]
  },
  {
   "cell_type": "code",
   "execution_count": 56,
   "id": "b386de34",
   "metadata": {},
   "outputs": [
    {
     "data": {
      "text/plain": [
       "False"
      ]
     },
     "execution_count": 56,
     "metadata": {},
     "output_type": "execute_result"
    }
   ],
   "source": [
    "a.isdigit()"
   ]
  },
  {
   "cell_type": "code",
   "execution_count": 57,
   "id": "a0fb7d3d",
   "metadata": {},
   "outputs": [
    {
     "data": {
      "text/plain": [
       "False"
      ]
     },
     "execution_count": 57,
     "metadata": {},
     "output_type": "execute_result"
    }
   ],
   "source": [
    "a.isidentifier()"
   ]
  },
  {
   "cell_type": "code",
   "execution_count": 58,
   "id": "3b39b9ab",
   "metadata": {},
   "outputs": [
    {
     "data": {
      "text/plain": [
       "False"
      ]
     },
     "execution_count": 58,
     "metadata": {},
     "output_type": "execute_result"
    }
   ],
   "source": [
    "a.islower()"
   ]
  },
  {
   "cell_type": "code",
   "execution_count": 59,
   "id": "e1ed4eea",
   "metadata": {},
   "outputs": [
    {
     "data": {
      "text/plain": [
       "False"
      ]
     },
     "execution_count": 59,
     "metadata": {},
     "output_type": "execute_result"
    }
   ],
   "source": [
    "a.isnumeric()"
   ]
  },
  {
   "cell_type": "code",
   "execution_count": 60,
   "id": "b56264bc",
   "metadata": {},
   "outputs": [
    {
     "data": {
      "text/plain": [
       "True"
      ]
     },
     "execution_count": 60,
     "metadata": {},
     "output_type": "execute_result"
    }
   ],
   "source": [
    "a.isprintable()"
   ]
  },
  {
   "cell_type": "code",
   "execution_count": 61,
   "id": "5f66a5ab",
   "metadata": {},
   "outputs": [
    {
     "data": {
      "text/plain": [
       "False"
      ]
     },
     "execution_count": 61,
     "metadata": {},
     "output_type": "execute_result"
    }
   ],
   "source": [
    "a.isspace()"
   ]
  },
  {
   "cell_type": "code",
   "execution_count": 62,
   "id": "dfc17289",
   "metadata": {},
   "outputs": [
    {
     "data": {
      "text/plain": [
       "False"
      ]
     },
     "execution_count": 62,
     "metadata": {},
     "output_type": "execute_result"
    }
   ],
   "source": [
    "a.istitle()"
   ]
  },
  {
   "cell_type": "code",
   "execution_count": 64,
   "id": "e5ad1d5a",
   "metadata": {},
   "outputs": [],
   "source": [
    "b=a.upper()"
   ]
  },
  {
   "cell_type": "code",
   "execution_count": 65,
   "id": "9c578a2c",
   "metadata": {},
   "outputs": [
    {
     "data": {
      "text/plain": [
       "True"
      ]
     },
     "execution_count": 65,
     "metadata": {},
     "output_type": "execute_result"
    }
   ],
   "source": [
    "b.isupper()"
   ]
  },
  {
   "cell_type": "code",
   "execution_count": 67,
   "id": "e0e708ea",
   "metadata": {},
   "outputs": [
    {
     "data": {
      "text/plain": [
       "'jPakistan meri JaanoPakistan meri JaaniPakistan meri JaannPakistan meri JaangPakistan meri Jaan '"
      ]
     },
     "execution_count": 67,
     "metadata": {},
     "output_type": "execute_result"
    }
   ],
   "source": [
    "a.join(\"joing \")"
   ]
  },
  {
   "cell_type": "code",
   "execution_count": 71,
   "id": "a4c3c146",
   "metadata": {},
   "outputs": [
    {
     "data": {
      "text/plain": [
       "'Pakistan meri Jaan                                                                                                                                                                                                                                                                                                                                                                                                                                         '"
      ]
     },
     "execution_count": 71,
     "metadata": {},
     "output_type": "execute_result"
    }
   ],
   "source": [
    "a.ljust(443)"
   ]
  },
  {
   "cell_type": "code",
   "execution_count": 72,
   "id": "b4488f0b",
   "metadata": {},
   "outputs": [
    {
     "data": {
      "text/plain": [
       "'pakistan meri jaan'"
      ]
     },
     "execution_count": 72,
     "metadata": {},
     "output_type": "execute_result"
    }
   ],
   "source": [
    "a.lower()"
   ]
  },
  {
   "cell_type": "code",
   "execution_count": 74,
   "id": "d38849f0",
   "metadata": {},
   "outputs": [],
   "source": [
    "s=\"           Pakistan     is  meri Jannnnnnnnnnnn            \""
   ]
  },
  {
   "cell_type": "code",
   "execution_count": 77,
   "id": "210124bb",
   "metadata": {},
   "outputs": [
    {
     "data": {
      "text/plain": [
       "'Pakistan     is  meri Jannnnnnnnnnnn'"
      ]
     },
     "execution_count": 77,
     "metadata": {},
     "output_type": "execute_result"
    }
   ],
   "source": [
    "s.strip()"
   ]
  },
  {
   "cell_type": "code",
   "execution_count": 79,
   "id": "ef64e41f",
   "metadata": {},
   "outputs": [
    {
     "data": {
      "text/plain": [
       "'PAkistAn meri JAAn'"
      ]
     },
     "execution_count": 79,
     "metadata": {},
     "output_type": "execute_result"
    }
   ],
   "source": [
    "a.replace(\"a\",\"A\")"
   ]
  },
  {
   "cell_type": "code",
   "execution_count": 80,
   "id": "b8c2322f",
   "metadata": {},
   "outputs": [
    {
     "data": {
      "text/plain": [
       "['Pakistan', 'meri', 'Jaan']"
      ]
     },
     "execution_count": 80,
     "metadata": {},
     "output_type": "execute_result"
    }
   ],
   "source": [
    "a.split()"
   ]
  },
  {
   "cell_type": "code",
   "execution_count": 81,
   "id": "1d890532",
   "metadata": {},
   "outputs": [
    {
     "data": {
      "text/plain": [
       "['P', 'kist', 'n meri J', '', 'n']"
      ]
     },
     "execution_count": 81,
     "metadata": {},
     "output_type": "execute_result"
    }
   ],
   "source": [
    "a.split(\"a\")"
   ]
  },
  {
   "cell_type": "code",
   "execution_count": 83,
   "id": "e608533a",
   "metadata": {},
   "outputs": [
    {
     "data": {
      "text/plain": [
       "True"
      ]
     },
     "execution_count": 83,
     "metadata": {},
     "output_type": "execute_result"
    }
   ],
   "source": [
    "a.startswith(\"P\")"
   ]
  },
  {
   "cell_type": "code",
   "execution_count": 84,
   "id": "a871b4c7",
   "metadata": {},
   "outputs": [
    {
     "data": {
      "text/plain": [
       "'pAKISTAN MERI jAAN'"
      ]
     },
     "execution_count": 84,
     "metadata": {},
     "output_type": "execute_result"
    }
   ],
   "source": [
    "a.swapcase()"
   ]
  },
  {
   "cell_type": "code",
   "execution_count": 85,
   "id": "90e9fa22",
   "metadata": {},
   "outputs": [
    {
     "data": {
      "text/plain": [
       "'Pakistan Meri Jaan'"
      ]
     },
     "execution_count": 85,
     "metadata": {},
     "output_type": "execute_result"
    }
   ],
   "source": [
    "a.title()"
   ]
  },
  {
   "cell_type": "code",
   "execution_count": 86,
   "id": "eba18270",
   "metadata": {},
   "outputs": [
    {
     "data": {
      "text/plain": [
       "'Pakistan meri jaan'"
      ]
     },
     "execution_count": 86,
     "metadata": {},
     "output_type": "execute_result"
    }
   ],
   "source": [
    "a.capitalize()"
   ]
  },
  {
   "cell_type": "code",
   "execution_count": 87,
   "id": "54ef9826",
   "metadata": {},
   "outputs": [
    {
     "data": {
      "text/plain": [
       "'Pakistan Meri Jaan'"
      ]
     },
     "execution_count": 87,
     "metadata": {},
     "output_type": "execute_result"
    }
   ],
   "source": [
    "a.title()"
   ]
  },
  {
   "cell_type": "code",
   "execution_count": 91,
   "id": "632142bd",
   "metadata": {},
   "outputs": [
    {
     "data": {
      "text/plain": [
       "'G'"
      ]
     },
     "execution_count": 91,
     "metadata": {},
     "output_type": "execute_result"
    }
   ],
   "source": [
    "chr(71)"
   ]
  },
  {
   "cell_type": "code",
   "execution_count": 92,
   "id": "67c086cc",
   "metadata": {},
   "outputs": [
    {
     "data": {
      "text/plain": [
       "71"
      ]
     },
     "execution_count": 92,
     "metadata": {},
     "output_type": "execute_result"
    }
   ],
   "source": [
    "ord(\"G\")"
   ]
  },
  {
   "cell_type": "code",
   "execution_count": 93,
   "id": "8a3c2a3e",
   "metadata": {},
   "outputs": [],
   "source": [
    "a= \"muneeb\""
   ]
  },
  {
   "cell_type": "code",
   "execution_count": 94,
   "id": "54e6e988",
   "metadata": {},
   "outputs": [
    {
     "data": {
      "text/plain": [
       "1778828569712"
      ]
     },
     "execution_count": 94,
     "metadata": {},
     "output_type": "execute_result"
    }
   ],
   "source": [
    "id(a)"
   ]
  },
  {
   "cell_type": "code",
   "execution_count": 95,
   "id": "b0c34229",
   "metadata": {},
   "outputs": [],
   "source": [
    "a=a.upper()"
   ]
  },
  {
   "cell_type": "code",
   "execution_count": 96,
   "id": "3fab7069",
   "metadata": {},
   "outputs": [
    {
     "data": {
      "text/plain": [
       "1778828264688"
      ]
     },
     "execution_count": 96,
     "metadata": {},
     "output_type": "execute_result"
    }
   ],
   "source": [
    "id(a)"
   ]
  },
  {
   "cell_type": "code",
   "execution_count": 99,
   "id": "4e4b007f",
   "metadata": {},
   "outputs": [
    {
     "name": "stdout",
     "output_type": "stream",
     "text": [
      "Enter price of tomato1\n",
      "give me 30 KG\n"
     ]
    }
   ],
   "source": [
    "price= int(input(\"Enter price of tomato\"))\n",
    "if price < 20:\n",
    "    print(\"give me 30 KG\")\n",
    "else:\n",
    "    print(\"Give me 10 KG\")"
   ]
  },
  {
   "cell_type": "code",
   "execution_count": 105,
   "id": "0569d374",
   "metadata": {},
   "outputs": [
    {
     "name": "stdout",
     "output_type": "stream",
     "text": [
      "Enter brand namepolo\n",
      "Enter name of colorred\n",
      "Enter name of Sizem\n",
      "Enter price33\n",
      "You purchased polo Tshirt of red colour,its size is m and its price is 33.Thanks.\n"
     ]
    }
   ],
   "source": [
    "cart= None\n",
    "brand= input(\"Enter brand name\")\n",
    "if brand == \"polo\":\n",
    "    color= input(\"Enter name of color\")\n",
    "    if color == \"red\":\n",
    "        size = input(\"Enter name of Size\")\n",
    "        if size == \"m\":\n",
    "            price = int(input(\"Enter price\"))\n",
    "            if price <=2000:\n",
    "                print(f\"You purchased {brand} Tshirt of {color} colour,its size is {size} and its price is {price}.Thanks.\")\n",
    "            else:\n",
    "                print(\"Price is much high..Sorry\")\n",
    "        else:\n",
    "            print(\"required size is not availabe\")\n",
    "            \n",
    "    else:\n",
    "        print(\"required color is not availabe\")\n",
    "else:\n",
    "    print(\"Required brand is not available\")\n",
    "    "
   ]
  },
  {
   "cell_type": "markdown",
   "id": "1c10846c",
   "metadata": {},
   "source": [
    "## list"
   ]
  },
  {
   "cell_type": "code",
   "execution_count": 6,
   "id": "99dda6a3",
   "metadata": {},
   "outputs": [],
   "source": [
    "lis=[\"muneeb\",\"ahmad\",\"Haqqani\",1,2,3,True,[4,5,6]]"
   ]
  },
  {
   "cell_type": "code",
   "execution_count": 2,
   "id": "c9928049",
   "metadata": {},
   "outputs": [],
   "source": [
    "lis.append(\"append\")"
   ]
  },
  {
   "cell_type": "code",
   "execution_count": 3,
   "id": "e8cd54c3",
   "metadata": {},
   "outputs": [
    {
     "data": {
      "text/plain": [
       "['muneeb', 'ahmad', 'Haqqani', 1, 2, 3, True, [4, 5, 6], 'append']"
      ]
     },
     "execution_count": 3,
     "metadata": {},
     "output_type": "execute_result"
    }
   ],
   "source": [
    "lis"
   ]
  },
  {
   "cell_type": "code",
   "execution_count": 4,
   "id": "dbb53b42",
   "metadata": {},
   "outputs": [],
   "source": [
    "lis.clear()"
   ]
  },
  {
   "cell_type": "code",
   "execution_count": 7,
   "id": "cab1cf22",
   "metadata": {},
   "outputs": [
    {
     "data": {
      "text/plain": [
       "['muneeb', 'ahmad', 'Haqqani', 1, 2, 3, True, [4, 5, 6]]"
      ]
     },
     "execution_count": 7,
     "metadata": {},
     "output_type": "execute_result"
    }
   ],
   "source": [
    "lis"
   ]
  },
  {
   "cell_type": "code",
   "execution_count": 8,
   "id": "2f8c401a",
   "metadata": {},
   "outputs": [
    {
     "data": {
      "text/plain": [
       "['muneeb', 'ahmad', 'Haqqani', 1, 2, 3, True, [4, 5, 6]]"
      ]
     },
     "execution_count": 8,
     "metadata": {},
     "output_type": "execute_result"
    }
   ],
   "source": [
    "lis.copy()"
   ]
  },
  {
   "cell_type": "code",
   "execution_count": 10,
   "id": "94c226aa",
   "metadata": {},
   "outputs": [],
   "source": [
    "a=lis.copy()"
   ]
  },
  {
   "cell_type": "code",
   "execution_count": 11,
   "id": "8f7abf7a",
   "metadata": {},
   "outputs": [
    {
     "data": {
      "text/plain": [
       "['muneeb', 'ahmad', 'Haqqani', 1, 2, 3, True, [4, 5, 6]]"
      ]
     },
     "execution_count": 11,
     "metadata": {},
     "output_type": "execute_result"
    }
   ],
   "source": [
    "a"
   ]
  },
  {
   "cell_type": "code",
   "execution_count": 13,
   "id": "b1c769f9",
   "metadata": {},
   "outputs": [
    {
     "data": {
      "text/plain": [
       "1"
      ]
     },
     "execution_count": 13,
     "metadata": {},
     "output_type": "execute_result"
    }
   ],
   "source": [
    "lis.count(\"muneeb\")"
   ]
  },
  {
   "cell_type": "code",
   "execution_count": 14,
   "id": "d8fe0493",
   "metadata": {},
   "outputs": [],
   "source": [
    "lis.extend([\"Telenor\",\"Pakistan\",\"Mobilink\"])"
   ]
  },
  {
   "cell_type": "code",
   "execution_count": 15,
   "id": "229be1e3",
   "metadata": {},
   "outputs": [
    {
     "data": {
      "text/plain": [
       "['muneeb',\n",
       " 'ahmad',\n",
       " 'Haqqani',\n",
       " 1,\n",
       " 2,\n",
       " 3,\n",
       " True,\n",
       " [4, 5, 6],\n",
       " 'Telenor',\n",
       " 'Pakistan',\n",
       " 'Mobilink']"
      ]
     },
     "execution_count": 15,
     "metadata": {},
     "output_type": "execute_result"
    }
   ],
   "source": [
    "lis"
   ]
  },
  {
   "cell_type": "code",
   "execution_count": 16,
   "id": "0675d457",
   "metadata": {},
   "outputs": [
    {
     "data": {
      "text/plain": [
       "10"
      ]
     },
     "execution_count": 16,
     "metadata": {},
     "output_type": "execute_result"
    }
   ],
   "source": [
    "lis.index(\"Mobilink\")"
   ]
  },
  {
   "cell_type": "code",
   "execution_count": 17,
   "id": "49ad8e57",
   "metadata": {},
   "outputs": [],
   "source": [
    "lis.insert(1,\"insert\")"
   ]
  },
  {
   "cell_type": "code",
   "execution_count": 19,
   "id": "b84f5140",
   "metadata": {},
   "outputs": [
    {
     "data": {
      "text/plain": [
       "'muneeb'"
      ]
     },
     "execution_count": 19,
     "metadata": {},
     "output_type": "execute_result"
    }
   ],
   "source": [
    "lis.pop(0)"
   ]
  },
  {
   "cell_type": "code",
   "execution_count": 21,
   "id": "469a8d2f",
   "metadata": {},
   "outputs": [
    {
     "data": {
      "text/plain": [
       "'Mobilink'"
      ]
     },
     "execution_count": 21,
     "metadata": {},
     "output_type": "execute_result"
    }
   ],
   "source": [
    "lis.pop()"
   ]
  },
  {
   "cell_type": "code",
   "execution_count": 22,
   "id": "8119b771",
   "metadata": {},
   "outputs": [
    {
     "data": {
      "text/plain": [
       "['insert', 'ahmad', 'Haqqani', 1, 2, 3, True, [4, 5, 6], 'Telenor', 'Pakistan']"
      ]
     },
     "execution_count": 22,
     "metadata": {},
     "output_type": "execute_result"
    }
   ],
   "source": [
    "lis"
   ]
  },
  {
   "cell_type": "code",
   "execution_count": 24,
   "id": "a6198372",
   "metadata": {},
   "outputs": [],
   "source": [
    "lis.remove(\"Haqqani\")"
   ]
  },
  {
   "cell_type": "code",
   "execution_count": 25,
   "id": "7bf88985",
   "metadata": {},
   "outputs": [
    {
     "data": {
      "text/plain": [
       "['insert', 'ahmad', 1, 2, 3, True, [4, 5, 6], 'Telenor', 'Pakistan']"
      ]
     },
     "execution_count": 25,
     "metadata": {},
     "output_type": "execute_result"
    }
   ],
   "source": [
    "lis"
   ]
  },
  {
   "cell_type": "code",
   "execution_count": 26,
   "id": "c03cc8bf",
   "metadata": {},
   "outputs": [],
   "source": [
    "del lis[1]"
   ]
  },
  {
   "cell_type": "code",
   "execution_count": 27,
   "id": "261894cb",
   "metadata": {},
   "outputs": [
    {
     "data": {
      "text/plain": [
       "['insert', 1, 2, 3, True, [4, 5, 6], 'Telenor', 'Pakistan']"
      ]
     },
     "execution_count": 27,
     "metadata": {},
     "output_type": "execute_result"
    }
   ],
   "source": [
    "lis"
   ]
  },
  {
   "cell_type": "code",
   "execution_count": 28,
   "id": "a32380ed",
   "metadata": {},
   "outputs": [],
   "source": [
    "lis.reverse()"
   ]
  },
  {
   "cell_type": "code",
   "execution_count": 29,
   "id": "232143b0",
   "metadata": {},
   "outputs": [
    {
     "data": {
      "text/plain": [
       "['Pakistan', 'Telenor', [4, 5, 6], True, 3, 2, 1, 'insert']"
      ]
     },
     "execution_count": 29,
     "metadata": {},
     "output_type": "execute_result"
    }
   ],
   "source": [
    "lis"
   ]
  },
  {
   "cell_type": "code",
   "execution_count": 30,
   "id": "8f8c9aca",
   "metadata": {},
   "outputs": [
    {
     "ename": "TypeError",
     "evalue": "'<' not supported between instances of 'list' and 'str'",
     "output_type": "error",
     "traceback": [
      "\u001b[1;31m---------------------------------------------------------------------------\u001b[0m",
      "\u001b[1;31mTypeError\u001b[0m                                 Traceback (most recent call last)",
      "\u001b[1;32m~\\AppData\\Local\\Temp\\ipykernel_4180\\3320780270.py\u001b[0m in \u001b[0;36m<module>\u001b[1;34m\u001b[0m\n\u001b[1;32m----> 1\u001b[1;33m \u001b[0mlis\u001b[0m\u001b[1;33m.\u001b[0m\u001b[0msort\u001b[0m\u001b[1;33m(\u001b[0m\u001b[1;33m)\u001b[0m\u001b[1;33m\u001b[0m\u001b[1;33m\u001b[0m\u001b[0m\n\u001b[0m",
      "\u001b[1;31mTypeError\u001b[0m: '<' not supported between instances of 'list' and 'str'"
     ]
    }
   ],
   "source": [
    "lis.sort()"
   ]
  },
  {
   "cell_type": "code",
   "execution_count": 31,
   "id": "441ba31a",
   "metadata": {},
   "outputs": [
    {
     "data": {
      "text/plain": [
       "['Pakistan', 'Telenor', [4, 5, 6], True, 3, 2, 1, 'insert']"
      ]
     },
     "execution_count": 31,
     "metadata": {},
     "output_type": "execute_result"
    }
   ],
   "source": [
    "lis"
   ]
  },
  {
   "cell_type": "code",
   "execution_count": 33,
   "id": "f6cdde62",
   "metadata": {},
   "outputs": [],
   "source": [
    "lisb=lis"
   ]
  },
  {
   "cell_type": "code",
   "execution_count": 34,
   "id": "68ee058b",
   "metadata": {},
   "outputs": [
    {
     "data": {
      "text/plain": [
       "['Pakistan', 'Telenor', [4, 5, 6], True, 3, 2, 1, 'insert']"
      ]
     },
     "execution_count": 34,
     "metadata": {},
     "output_type": "execute_result"
    }
   ],
   "source": [
    "lisb"
   ]
  },
  {
   "cell_type": "code",
   "execution_count": 35,
   "id": "50be8d76",
   "metadata": {},
   "outputs": [
    {
     "data": {
      "text/plain": [
       "'insert'"
      ]
     },
     "execution_count": 35,
     "metadata": {},
     "output_type": "execute_result"
    }
   ],
   "source": [
    "lis.pop()"
   ]
  },
  {
   "cell_type": "code",
   "execution_count": 36,
   "id": "cdd98f94",
   "metadata": {},
   "outputs": [
    {
     "data": {
      "text/plain": [
       "['Pakistan', 'Telenor', [4, 5, 6], True, 3, 2, 1]"
      ]
     },
     "execution_count": 36,
     "metadata": {},
     "output_type": "execute_result"
    }
   ],
   "source": [
    "lisb"
   ]
  },
  {
   "cell_type": "code",
   "execution_count": 37,
   "id": "2bdf01f1",
   "metadata": {},
   "outputs": [],
   "source": [
    "lisc=lis"
   ]
  },
  {
   "cell_type": "code",
   "execution_count": 38,
   "id": "4900d53e",
   "metadata": {},
   "outputs": [
    {
     "data": {
      "text/plain": [
       "['Pakistan', 'Telenor', [4, 5, 6], True, 3, 2, 1]"
      ]
     },
     "execution_count": 38,
     "metadata": {},
     "output_type": "execute_result"
    }
   ],
   "source": [
    "lisc"
   ]
  },
  {
   "cell_type": "code",
   "execution_count": 39,
   "id": "e496cb6b",
   "metadata": {},
   "outputs": [
    {
     "data": {
      "text/plain": [
       "1"
      ]
     },
     "execution_count": 39,
     "metadata": {},
     "output_type": "execute_result"
    }
   ],
   "source": [
    "lis.pop()"
   ]
  },
  {
   "cell_type": "code",
   "execution_count": 40,
   "id": "7b6cdaf9",
   "metadata": {},
   "outputs": [
    {
     "data": {
      "text/plain": [
       "['Pakistan', 'Telenor', [4, 5, 6], True, 3, 2]"
      ]
     },
     "execution_count": 40,
     "metadata": {},
     "output_type": "execute_result"
    }
   ],
   "source": [
    "lisc"
   ]
  },
  {
   "cell_type": "code",
   "execution_count": 41,
   "id": "d8dd3390",
   "metadata": {},
   "outputs": [],
   "source": [
    "lisa=[1,2,3,4,5]"
   ]
  },
  {
   "cell_type": "code",
   "execution_count": 42,
   "id": "79a984f2",
   "metadata": {},
   "outputs": [],
   "source": [
    "lisb= lisa"
   ]
  },
  {
   "cell_type": "code",
   "execution_count": 44,
   "id": "b6c6200d",
   "metadata": {},
   "outputs": [
    {
     "data": {
      "text/plain": [
       "2323092063872"
      ]
     },
     "execution_count": 44,
     "metadata": {},
     "output_type": "execute_result"
    }
   ],
   "source": [
    "id(lisa)"
   ]
  },
  {
   "cell_type": "code",
   "execution_count": 45,
   "id": "feeed403",
   "metadata": {},
   "outputs": [
    {
     "data": {
      "text/plain": [
       "2323092063872"
      ]
     },
     "execution_count": 45,
     "metadata": {},
     "output_type": "execute_result"
    }
   ],
   "source": [
    "id(lisb)"
   ]
  },
  {
   "cell_type": "code",
   "execution_count": 46,
   "id": "55ac4f0c",
   "metadata": {},
   "outputs": [],
   "source": [
    "lisc=lisa.copy()"
   ]
  },
  {
   "cell_type": "code",
   "execution_count": 47,
   "id": "7cc3ade5",
   "metadata": {},
   "outputs": [
    {
     "data": {
      "text/plain": [
       "[1, 2, 3, 4, 5]"
      ]
     },
     "execution_count": 47,
     "metadata": {},
     "output_type": "execute_result"
    }
   ],
   "source": [
    "lisc"
   ]
  },
  {
   "cell_type": "code",
   "execution_count": 48,
   "id": "fa4dd081",
   "metadata": {},
   "outputs": [
    {
     "data": {
      "text/plain": [
       "2323092090816"
      ]
     },
     "execution_count": 48,
     "metadata": {},
     "output_type": "execute_result"
    }
   ],
   "source": [
    "id(lisc)"
   ]
  },
  {
   "cell_type": "code",
   "execution_count": 49,
   "id": "2bcb7f15",
   "metadata": {},
   "outputs": [
    {
     "data": {
      "text/plain": [
       "5"
      ]
     },
     "execution_count": 49,
     "metadata": {},
     "output_type": "execute_result"
    }
   ],
   "source": [
    "lisa.pop()"
   ]
  },
  {
   "cell_type": "code",
   "execution_count": 50,
   "id": "c3574ea8",
   "metadata": {},
   "outputs": [
    {
     "data": {
      "text/plain": [
       "[1, 2, 3, 4]"
      ]
     },
     "execution_count": 50,
     "metadata": {},
     "output_type": "execute_result"
    }
   ],
   "source": [
    "lisa"
   ]
  },
  {
   "cell_type": "code",
   "execution_count": 51,
   "id": "af11bc4b",
   "metadata": {},
   "outputs": [
    {
     "data": {
      "text/plain": [
       "[1, 2, 3, 4]"
      ]
     },
     "execution_count": 51,
     "metadata": {},
     "output_type": "execute_result"
    }
   ],
   "source": [
    "lisb"
   ]
  },
  {
   "cell_type": "code",
   "execution_count": 52,
   "id": "85002669",
   "metadata": {},
   "outputs": [
    {
     "data": {
      "text/plain": [
       "[1, 2, 3, 4, 5]"
      ]
     },
     "execution_count": 52,
     "metadata": {},
     "output_type": "execute_result"
    }
   ],
   "source": [
    "lisc"
   ]
  },
  {
   "cell_type": "code",
   "execution_count": 55,
   "id": "039c9d7b",
   "metadata": {},
   "outputs": [],
   "source": [
    "lisd=lisa[::]"
   ]
  },
  {
   "cell_type": "code",
   "execution_count": 56,
   "id": "ebfd35e1",
   "metadata": {},
   "outputs": [
    {
     "data": {
      "text/plain": [
       "[1, 2, 3, 4]"
      ]
     },
     "execution_count": 56,
     "metadata": {},
     "output_type": "execute_result"
    }
   ],
   "source": [
    "lisd"
   ]
  },
  {
   "cell_type": "code",
   "execution_count": 57,
   "id": "858c6da7",
   "metadata": {},
   "outputs": [
    {
     "data": {
      "text/plain": [
       "[1, 2, 3, 4]"
      ]
     },
     "execution_count": 57,
     "metadata": {},
     "output_type": "execute_result"
    }
   ],
   "source": [
    "lisa"
   ]
  },
  {
   "cell_type": "code",
   "execution_count": 61,
   "id": "16d8dce0",
   "metadata": {},
   "outputs": [],
   "source": [
    "lisa.sort(reverse=True)"
   ]
  },
  {
   "cell_type": "code",
   "execution_count": 62,
   "id": "249fa30e",
   "metadata": {},
   "outputs": [
    {
     "data": {
      "text/plain": [
       "[4, 3, 2, 1]"
      ]
     },
     "execution_count": 62,
     "metadata": {},
     "output_type": "execute_result"
    }
   ],
   "source": [
    "lisa"
   ]
  },
  {
   "cell_type": "code",
   "execution_count": 64,
   "id": "c4e23401",
   "metadata": {},
   "outputs": [],
   "source": [
    "lisa.sort()"
   ]
  },
  {
   "cell_type": "code",
   "execution_count": 65,
   "id": "213cf9ad",
   "metadata": {},
   "outputs": [
    {
     "data": {
      "text/plain": [
       "[1, 2, 3, 4]"
      ]
     },
     "execution_count": 65,
     "metadata": {},
     "output_type": "execute_result"
    }
   ],
   "source": [
    "lisa"
   ]
  },
  {
   "cell_type": "code",
   "execution_count": 69,
   "id": "a4972042",
   "metadata": {},
   "outputs": [
    {
     "data": {
      "text/plain": [
       "'E'"
      ]
     },
     "execution_count": 69,
     "metadata": {},
     "output_type": "execute_result"
    }
   ],
   "source": [
    "chr(69)"
   ]
  },
  {
   "cell_type": "code",
   "execution_count": 70,
   "id": "37c59ede",
   "metadata": {},
   "outputs": [
    {
     "data": {
      "text/plain": [
       "69"
      ]
     },
     "execution_count": 70,
     "metadata": {},
     "output_type": "execute_result"
    }
   ],
   "source": [
    "ord('E')"
   ]
  },
  {
   "cell_type": "code",
   "execution_count": 71,
   "id": "f4b3ea5c",
   "metadata": {},
   "outputs": [
    {
     "data": {
      "text/plain": [
       "[1, 2, 3, 4]"
      ]
     },
     "execution_count": 71,
     "metadata": {},
     "output_type": "execute_result"
    }
   ],
   "source": [
    "lisa"
   ]
  },
  {
   "cell_type": "code",
   "execution_count": 72,
   "id": "763d0ca7",
   "metadata": {},
   "outputs": [],
   "source": [
    "lisa.extend(\"Pakistan\")"
   ]
  },
  {
   "cell_type": "code",
   "execution_count": 73,
   "id": "0a0289ac",
   "metadata": {},
   "outputs": [
    {
     "data": {
      "text/plain": [
       "[1, 2, 3, 4, 'P', 'a', 'k', 'i', 's', 't', 'a', 'n']"
      ]
     },
     "execution_count": 73,
     "metadata": {},
     "output_type": "execute_result"
    }
   ],
   "source": [
    "lisa"
   ]
  },
  {
   "cell_type": "code",
   "execution_count": 74,
   "id": "b549e1f6",
   "metadata": {},
   "outputs": [],
   "source": [
    "lisa.extend(\"12345\")"
   ]
  },
  {
   "cell_type": "code",
   "execution_count": 75,
   "id": "ee8b7d18",
   "metadata": {},
   "outputs": [
    {
     "data": {
      "text/plain": [
       "[1, 2, 3, 4, 'P', 'a', 'k', 'i', 's', 't', 'a', 'n', '1', '2', '3', '4', '5']"
      ]
     },
     "execution_count": 75,
     "metadata": {},
     "output_type": "execute_result"
    }
   ],
   "source": [
    "lisa"
   ]
  },
  {
   "cell_type": "code",
   "execution_count": 76,
   "id": "62687681",
   "metadata": {},
   "outputs": [
    {
     "ename": "TypeError",
     "evalue": "'int' object is not iterable",
     "output_type": "error",
     "traceback": [
      "\u001b[1;31m---------------------------------------------------------------------------\u001b[0m",
      "\u001b[1;31mTypeError\u001b[0m                                 Traceback (most recent call last)",
      "\u001b[1;32m~\\AppData\\Local\\Temp\\ipykernel_4180\\2378252871.py\u001b[0m in \u001b[0;36m<module>\u001b[1;34m\u001b[0m\n\u001b[1;32m----> 1\u001b[1;33m \u001b[0mlisa\u001b[0m\u001b[1;33m.\u001b[0m\u001b[0mextend\u001b[0m\u001b[1;33m(\u001b[0m\u001b[1;36m12345\u001b[0m\u001b[1;33m)\u001b[0m\u001b[1;33m\u001b[0m\u001b[1;33m\u001b[0m\u001b[0m\n\u001b[0m",
      "\u001b[1;31mTypeError\u001b[0m: 'int' object is not iterable"
     ]
    }
   ],
   "source": [
    "lisa.extend(12345)"
   ]
  },
  {
   "cell_type": "code",
   "execution_count": 77,
   "id": "89f77e35",
   "metadata": {},
   "outputs": [],
   "source": [
    "lisa.extend([\"This\",\"is\",\"extend\",\"list\"])"
   ]
  },
  {
   "cell_type": "code",
   "execution_count": 78,
   "id": "db800a47",
   "metadata": {},
   "outputs": [
    {
     "data": {
      "text/plain": [
       "[1,\n",
       " 2,\n",
       " 3,\n",
       " 4,\n",
       " 'P',\n",
       " 'a',\n",
       " 'k',\n",
       " 'i',\n",
       " 's',\n",
       " 't',\n",
       " 'a',\n",
       " 'n',\n",
       " '1',\n",
       " '2',\n",
       " '3',\n",
       " '4',\n",
       " '5',\n",
       " 'This',\n",
       " 'is',\n",
       " 'extend',\n",
       " 'list']"
      ]
     },
     "execution_count": 78,
     "metadata": {},
     "output_type": "execute_result"
    }
   ],
   "source": [
    "lisa"
   ]
  },
  {
   "cell_type": "code",
   "execution_count": 79,
   "id": "c409b39c",
   "metadata": {},
   "outputs": [
    {
     "data": {
      "text/plain": [
       "[1,\n",
       " 2,\n",
       " 3,\n",
       " 4,\n",
       " 'P',\n",
       " 'a',\n",
       " 'k',\n",
       " 'i',\n",
       " 's',\n",
       " 't',\n",
       " 'a',\n",
       " 'n',\n",
       " '1',\n",
       " '2',\n",
       " '3',\n",
       " '4',\n",
       " '5',\n",
       " 'This',\n",
       " 'is',\n",
       " 'extend',\n",
       " 'list']"
      ]
     },
     "execution_count": 79,
     "metadata": {},
     "output_type": "execute_result"
    }
   ],
   "source": [
    "lisa"
   ]
  },
  {
   "cell_type": "code",
   "execution_count": 80,
   "id": "a9c4f41a",
   "metadata": {},
   "outputs": [],
   "source": [
    "lisa[1]=\"One\""
   ]
  },
  {
   "cell_type": "code",
   "execution_count": 81,
   "id": "e52e93cd",
   "metadata": {},
   "outputs": [
    {
     "data": {
      "text/plain": [
       "[1,\n",
       " 'One',\n",
       " 3,\n",
       " 4,\n",
       " 'P',\n",
       " 'a',\n",
       " 'k',\n",
       " 'i',\n",
       " 's',\n",
       " 't',\n",
       " 'a',\n",
       " 'n',\n",
       " '1',\n",
       " '2',\n",
       " '3',\n",
       " '4',\n",
       " '5',\n",
       " 'This',\n",
       " 'is',\n",
       " 'extend',\n",
       " 'list']"
      ]
     },
     "execution_count": 81,
     "metadata": {},
     "output_type": "execute_result"
    }
   ],
   "source": [
    "lisa"
   ]
  },
  {
   "cell_type": "code",
   "execution_count": 85,
   "id": "bb93c42f",
   "metadata": {},
   "outputs": [
    {
     "data": {
      "text/plain": [
       "['One', 'P', 'i', 'a', '2', '5', 'extend']"
      ]
     },
     "execution_count": 85,
     "metadata": {},
     "output_type": "execute_result"
    }
   ],
   "source": [
    "lisa[1:115:3]"
   ]
  },
  {
   "cell_type": "code",
   "execution_count": 88,
   "id": "a9147f74",
   "metadata": {},
   "outputs": [
    {
     "data": {
      "text/plain": [
       "['Pakistan', [4, 5, 6], 3]"
      ]
     },
     "execution_count": 88,
     "metadata": {},
     "output_type": "execute_result"
    }
   ],
   "source": [
    "lis[::2]"
   ]
  },
  {
   "cell_type": "code",
   "execution_count": 94,
   "id": "476a0c2b",
   "metadata": {},
   "outputs": [
    {
     "data": {
      "text/plain": [
       "[[4, 5, 6]]"
      ]
     },
     "execution_count": 94,
     "metadata": {},
     "output_type": "execute_result"
    }
   ],
   "source": [
    "lis[-4:1:-1]"
   ]
  },
  {
   "cell_type": "code",
   "execution_count": 90,
   "id": "ef634074",
   "metadata": {},
   "outputs": [
    {
     "data": {
      "text/plain": [
       "['Pakistan', 'Telenor', [4, 5, 6], True, 3, 2]"
      ]
     },
     "execution_count": 90,
     "metadata": {},
     "output_type": "execute_result"
    }
   ],
   "source": [
    "lis"
   ]
  },
  {
   "cell_type": "code",
   "execution_count": 95,
   "id": "273b2071",
   "metadata": {},
   "outputs": [
    {
     "data": {
      "text/plain": [
       "[2, 3, True]"
      ]
     },
     "execution_count": 95,
     "metadata": {},
     "output_type": "execute_result"
    }
   ],
   "source": [
    "lis[-1:-4:-1]"
   ]
  },
  {
   "cell_type": "code",
   "execution_count": 96,
   "id": "80a6942a",
   "metadata": {},
   "outputs": [
    {
     "data": {
      "text/plain": [
       "[True, 3, 2]"
      ]
     },
     "execution_count": 96,
     "metadata": {},
     "output_type": "execute_result"
    }
   ],
   "source": [
    "lis[3:]"
   ]
  },
  {
   "cell_type": "code",
   "execution_count": 97,
   "id": "18609a95",
   "metadata": {},
   "outputs": [
    {
     "data": {
      "text/plain": [
       "['Pakistan', 'Telenor', [4, 5, 6], True, 3, 2]"
      ]
     },
     "execution_count": 97,
     "metadata": {},
     "output_type": "execute_result"
    }
   ],
   "source": [
    "lis[::]"
   ]
  },
  {
   "cell_type": "code",
   "execution_count": 101,
   "id": "4446c448",
   "metadata": {},
   "outputs": [
    {
     "data": {
      "text/plain": [
       "[0,\n",
       " 4,\n",
       " 8,\n",
       " 12,\n",
       " 16,\n",
       " 20,\n",
       " 24,\n",
       " 28,\n",
       " 32,\n",
       " 36,\n",
       " 40,\n",
       " 44,\n",
       " 48,\n",
       " 52,\n",
       " 56,\n",
       " 60,\n",
       " 64,\n",
       " 68,\n",
       " 72,\n",
       " 76,\n",
       " 80,\n",
       " 84]"
      ]
     },
     "execution_count": 101,
     "metadata": {},
     "output_type": "execute_result"
    }
   ],
   "source": [
    "[ each for each in range(88) if each%2==0 and each%4==0]"
   ]
  },
  {
   "cell_type": "code",
   "execution_count": 102,
   "id": "af60b424",
   "metadata": {},
   "outputs": [
    {
     "data": {
      "text/plain": [
       "<generator object <genexpr> at 0x0000021CE3140430>"
      ]
     },
     "execution_count": 102,
     "metadata": {},
     "output_type": "execute_result"
    }
   ],
   "source": [
    "(each for each in range(88))"
   ]
  },
  {
   "cell_type": "code",
   "execution_count": 106,
   "id": "fc194ad3",
   "metadata": {},
   "outputs": [
    {
     "data": {
      "text/plain": [
       "{30, 40, 50, 60, 70, 80}"
      ]
     },
     "execution_count": 106,
     "metadata": {},
     "output_type": "execute_result"
    }
   ],
   "source": [
    "{each for each in range(30,88,5) if each%10==0}"
   ]
  },
  {
   "cell_type": "code",
   "execution_count": 107,
   "id": "cca8dc5c",
   "metadata": {},
   "outputs": [
    {
     "data": {
      "text/plain": [
       "['Pakistan', 'Telenor', [4, 5, 6], True, 3, 2]"
      ]
     },
     "execution_count": 107,
     "metadata": {},
     "output_type": "execute_result"
    }
   ],
   "source": [
    "lis"
   ]
  },
  {
   "cell_type": "code",
   "execution_count": 108,
   "id": "7499faf1",
   "metadata": {},
   "outputs": [
    {
     "data": {
      "text/plain": [
       "[2, 3, True, [4, 5, 6], 'Telenor', 'Pakistan']"
      ]
     },
     "execution_count": 108,
     "metadata": {},
     "output_type": "execute_result"
    }
   ],
   "source": [
    "lis[::-1]"
   ]
  },
  {
   "cell_type": "code",
   "execution_count": 109,
   "id": "a82e9958",
   "metadata": {},
   "outputs": [
    {
     "data": {
      "text/plain": [
       "[[4, 5, 6], True]"
      ]
     },
     "execution_count": 109,
     "metadata": {},
     "output_type": "execute_result"
    }
   ],
   "source": [
    "lis[2:-2]"
   ]
  },
  {
   "cell_type": "code",
   "execution_count": 110,
   "id": "065f1447",
   "metadata": {},
   "outputs": [
    {
     "data": {
      "text/plain": [
       "['Pakistan', 'Telenor', [4, 5, 6], True, 3, 2]"
      ]
     },
     "execution_count": 110,
     "metadata": {},
     "output_type": "execute_result"
    }
   ],
   "source": [
    "lis"
   ]
  },
  {
   "cell_type": "code",
   "execution_count": 111,
   "id": "e65c5b34",
   "metadata": {},
   "outputs": [
    {
     "data": {
      "text/plain": [
       "['Pakistan', 'Telenor', [4, 5, 6], True, 3, 2]"
      ]
     },
     "execution_count": 111,
     "metadata": {},
     "output_type": "execute_result"
    }
   ],
   "source": [
    "lis"
   ]
  },
  {
   "cell_type": "code",
   "execution_count": 116,
   "id": "eeeb9805",
   "metadata": {},
   "outputs": [
    {
     "data": {
      "text/plain": [
       "[True, [4, 5, 6]]"
      ]
     },
     "execution_count": 116,
     "metadata": {},
     "output_type": "execute_result"
    }
   ],
   "source": [
    "lis[-3:1:-1]"
   ]
  },
  {
   "cell_type": "code",
   "execution_count": 117,
   "id": "bf211631",
   "metadata": {},
   "outputs": [],
   "source": [
    "tup=(1,2)"
   ]
  },
  {
   "cell_type": "code",
   "execution_count": 118,
   "id": "95c36280",
   "metadata": {},
   "outputs": [
    {
     "data": {
      "text/plain": [
       "tuple"
      ]
     },
     "execution_count": 118,
     "metadata": {},
     "output_type": "execute_result"
    }
   ],
   "source": [
    "type(tup)"
   ]
  },
  {
   "cell_type": "code",
   "execution_count": 131,
   "id": "c7b3002a",
   "metadata": {},
   "outputs": [],
   "source": [
    "s1={1,2,3,4}\n",
    "s2={2,3,4,5,6,7}"
   ]
  },
  {
   "cell_type": "code",
   "execution_count": 132,
   "id": "c90c4bb5",
   "metadata": {},
   "outputs": [],
   "source": [
    "s1.add(9)"
   ]
  },
  {
   "cell_type": "code",
   "execution_count": 133,
   "id": "9b5257cc",
   "metadata": {},
   "outputs": [
    {
     "data": {
      "text/plain": [
       "{1, 2, 3, 4, 9}"
      ]
     },
     "execution_count": 133,
     "metadata": {},
     "output_type": "execute_result"
    }
   ],
   "source": [
    "s1"
   ]
  },
  {
   "cell_type": "code",
   "execution_count": 134,
   "id": "200b5787",
   "metadata": {},
   "outputs": [],
   "source": [
    "s3=s1.copy()"
   ]
  },
  {
   "cell_type": "code",
   "execution_count": 135,
   "id": "6c50093d",
   "metadata": {},
   "outputs": [
    {
     "data": {
      "text/plain": [
       "{1, 2, 3, 4, 9}"
      ]
     },
     "execution_count": 135,
     "metadata": {},
     "output_type": "execute_result"
    }
   ],
   "source": [
    "s3"
   ]
  },
  {
   "cell_type": "code",
   "execution_count": 136,
   "id": "84a45ffe",
   "metadata": {},
   "outputs": [
    {
     "data": {
      "text/plain": [
       "{1, 9}"
      ]
     },
     "execution_count": 136,
     "metadata": {},
     "output_type": "execute_result"
    }
   ],
   "source": [
    "s1.difference(s2)"
   ]
  },
  {
   "cell_type": "code",
   "execution_count": 137,
   "id": "b59fe826",
   "metadata": {},
   "outputs": [
    {
     "data": {
      "text/plain": [
       "{1, 2, 3, 4, 9}"
      ]
     },
     "execution_count": 137,
     "metadata": {},
     "output_type": "execute_result"
    }
   ],
   "source": [
    "s1"
   ]
  },
  {
   "cell_type": "code",
   "execution_count": 138,
   "id": "4af3ed87",
   "metadata": {},
   "outputs": [
    {
     "data": {
      "text/plain": [
       "{2, 3, 4, 5, 6, 7}"
      ]
     },
     "execution_count": 138,
     "metadata": {},
     "output_type": "execute_result"
    }
   ],
   "source": [
    "s2"
   ]
  },
  {
   "cell_type": "code",
   "execution_count": 139,
   "id": "a75c9ad0",
   "metadata": {},
   "outputs": [],
   "source": [
    "s1.difference_update(s2)"
   ]
  },
  {
   "cell_type": "code",
   "execution_count": 140,
   "id": "b78df46b",
   "metadata": {},
   "outputs": [
    {
     "data": {
      "text/plain": [
       "{1, 9}"
      ]
     },
     "execution_count": 140,
     "metadata": {},
     "output_type": "execute_result"
    }
   ],
   "source": [
    "s1"
   ]
  },
  {
   "cell_type": "code",
   "execution_count": 141,
   "id": "c66590c9",
   "metadata": {},
   "outputs": [
    {
     "data": {
      "text/plain": [
       "{1, 2, 3, 4, 9}"
      ]
     },
     "execution_count": 141,
     "metadata": {},
     "output_type": "execute_result"
    }
   ],
   "source": [
    "s3"
   ]
  },
  {
   "cell_type": "code",
   "execution_count": 142,
   "id": "82157f38",
   "metadata": {},
   "outputs": [
    {
     "data": {
      "text/plain": [
       "{2, 3, 4, 5, 6, 7}"
      ]
     },
     "execution_count": 142,
     "metadata": {},
     "output_type": "execute_result"
    }
   ],
   "source": [
    " s2"
   ]
  },
  {
   "cell_type": "code",
   "execution_count": 143,
   "id": "8beb483e",
   "metadata": {},
   "outputs": [
    {
     "data": {
      "text/plain": [
       "{5, 6, 7}"
      ]
     },
     "execution_count": 143,
     "metadata": {},
     "output_type": "execute_result"
    }
   ],
   "source": [
    "s2.difference(s3)"
   ]
  },
  {
   "cell_type": "code",
   "execution_count": 144,
   "id": "c20f4b49",
   "metadata": {},
   "outputs": [],
   "source": [
    "s2.difference_update(s3)"
   ]
  },
  {
   "cell_type": "code",
   "execution_count": 145,
   "id": "f10e3778",
   "metadata": {},
   "outputs": [
    {
     "data": {
      "text/plain": [
       "{5, 6, 7}"
      ]
     },
     "execution_count": 145,
     "metadata": {},
     "output_type": "execute_result"
    }
   ],
   "source": [
    "s2"
   ]
  },
  {
   "cell_type": "code",
   "execution_count": 146,
   "id": "69a7420a",
   "metadata": {},
   "outputs": [
    {
     "data": {
      "text/plain": [
       "{1, 9}"
      ]
     },
     "execution_count": 146,
     "metadata": {},
     "output_type": "execute_result"
    }
   ],
   "source": [
    "s1"
   ]
  },
  {
   "cell_type": "code",
   "execution_count": 147,
   "id": "f3d62418",
   "metadata": {},
   "outputs": [
    {
     "data": {
      "text/plain": [
       "{5, 6, 7}"
      ]
     },
     "execution_count": 147,
     "metadata": {},
     "output_type": "execute_result"
    }
   ],
   "source": [
    "s2"
   ]
  },
  {
   "cell_type": "code",
   "execution_count": 148,
   "id": "a4973fa5",
   "metadata": {},
   "outputs": [
    {
     "data": {
      "text/plain": [
       "{1, 2, 3, 4, 9}"
      ]
     },
     "execution_count": 148,
     "metadata": {},
     "output_type": "execute_result"
    }
   ],
   "source": [
    "s3"
   ]
  },
  {
   "cell_type": "code",
   "execution_count": 149,
   "id": "2f0094e5",
   "metadata": {},
   "outputs": [],
   "source": [
    "s3.discard(66)"
   ]
  },
  {
   "cell_type": "code",
   "execution_count": 150,
   "id": "b59c2997",
   "metadata": {},
   "outputs": [
    {
     "data": {
      "text/plain": [
       "{1, 2, 3, 4, 9}"
      ]
     },
     "execution_count": 150,
     "metadata": {},
     "output_type": "execute_result"
    }
   ],
   "source": [
    "s3"
   ]
  },
  {
   "cell_type": "code",
   "execution_count": 151,
   "id": "97f4e928",
   "metadata": {},
   "outputs": [
    {
     "data": {
      "text/plain": [
       "{1, 9}"
      ]
     },
     "execution_count": 151,
     "metadata": {},
     "output_type": "execute_result"
    }
   ],
   "source": [
    "s3.intersection(s1)"
   ]
  },
  {
   "cell_type": "code",
   "execution_count": 152,
   "id": "d9355f8e",
   "metadata": {},
   "outputs": [
    {
     "data": {
      "text/plain": [
       "{1, 2, 3, 4, 9}"
      ]
     },
     "execution_count": 152,
     "metadata": {},
     "output_type": "execute_result"
    }
   ],
   "source": [
    "s3"
   ]
  },
  {
   "cell_type": "code",
   "execution_count": 153,
   "id": "07aab058",
   "metadata": {},
   "outputs": [
    {
     "data": {
      "text/plain": [
       "{1, 9}"
      ]
     },
     "execution_count": 153,
     "metadata": {},
     "output_type": "execute_result"
    }
   ],
   "source": [
    "s1"
   ]
  },
  {
   "cell_type": "code",
   "execution_count": 154,
   "id": "ae428198",
   "metadata": {},
   "outputs": [
    {
     "data": {
      "text/plain": [
       "False"
      ]
     },
     "execution_count": 154,
     "metadata": {},
     "output_type": "execute_result"
    }
   ],
   "source": [
    "s3.isdisjoint(s1)"
   ]
  },
  {
   "cell_type": "code",
   "execution_count": 155,
   "id": "a6e1e1dd",
   "metadata": {},
   "outputs": [
    {
     "data": {
      "text/plain": [
       "True"
      ]
     },
     "execution_count": 155,
     "metadata": {},
     "output_type": "execute_result"
    }
   ],
   "source": [
    "s1.issubset(s3)"
   ]
  },
  {
   "cell_type": "code",
   "execution_count": 156,
   "id": "ae241d34",
   "metadata": {},
   "outputs": [
    {
     "data": {
      "text/plain": [
       "False"
      ]
     },
     "execution_count": 156,
     "metadata": {},
     "output_type": "execute_result"
    }
   ],
   "source": [
    "s3.issubset(s1)"
   ]
  },
  {
   "cell_type": "code",
   "execution_count": 157,
   "id": "216a7c87",
   "metadata": {},
   "outputs": [
    {
     "data": {
      "text/plain": [
       "True"
      ]
     },
     "execution_count": 157,
     "metadata": {},
     "output_type": "execute_result"
    }
   ],
   "source": [
    "s3.issuperset(s1)"
   ]
  },
  {
   "cell_type": "code",
   "execution_count": 158,
   "id": "37981f5b",
   "metadata": {},
   "outputs": [
    {
     "data": {
      "text/plain": [
       "1"
      ]
     },
     "execution_count": 158,
     "metadata": {},
     "output_type": "execute_result"
    }
   ],
   "source": [
    "s3.pop()"
   ]
  },
  {
   "cell_type": "code",
   "execution_count": 159,
   "id": "1a355792",
   "metadata": {},
   "outputs": [
    {
     "data": {
      "text/plain": [
       "{2, 3, 4, 9}"
      ]
     },
     "execution_count": 159,
     "metadata": {},
     "output_type": "execute_result"
    }
   ],
   "source": [
    "s3"
   ]
  },
  {
   "cell_type": "code",
   "execution_count": 160,
   "id": "ad4d4189",
   "metadata": {},
   "outputs": [
    {
     "data": {
      "text/plain": [
       "2"
      ]
     },
     "execution_count": 160,
     "metadata": {},
     "output_type": "execute_result"
    }
   ],
   "source": [
    "s3.pop()"
   ]
  },
  {
   "cell_type": "code",
   "execution_count": 164,
   "id": "375c3a82",
   "metadata": {},
   "outputs": [],
   "source": [
    "s3.remove(3)"
   ]
  },
  {
   "cell_type": "code",
   "execution_count": 165,
   "id": "e9a4f426",
   "metadata": {},
   "outputs": [
    {
     "data": {
      "text/plain": [
       "{4, 9}"
      ]
     },
     "execution_count": 165,
     "metadata": {},
     "output_type": "execute_result"
    }
   ],
   "source": [
    "s3"
   ]
  },
  {
   "cell_type": "code",
   "execution_count": 166,
   "id": "5ec4169e",
   "metadata": {},
   "outputs": [
    {
     "data": {
      "text/plain": [
       "{1, 4}"
      ]
     },
     "execution_count": 166,
     "metadata": {},
     "output_type": "execute_result"
    }
   ],
   "source": [
    "s3.symmetric_difference(s1)"
   ]
  },
  {
   "cell_type": "code",
   "execution_count": 167,
   "id": "4ba7e4f8",
   "metadata": {},
   "outputs": [
    {
     "data": {
      "text/plain": [
       "{1, 9}"
      ]
     },
     "execution_count": 167,
     "metadata": {},
     "output_type": "execute_result"
    }
   ],
   "source": [
    "s1"
   ]
  },
  {
   "cell_type": "code",
   "execution_count": 168,
   "id": "86057c22",
   "metadata": {},
   "outputs": [
    {
     "data": {
      "text/plain": [
       "{4, 9}"
      ]
     },
     "execution_count": 168,
     "metadata": {},
     "output_type": "execute_result"
    }
   ],
   "source": [
    "s3"
   ]
  },
  {
   "cell_type": "code",
   "execution_count": 169,
   "id": "eb9333f0",
   "metadata": {},
   "outputs": [
    {
     "data": {
      "text/plain": [
       "{1, 4}"
      ]
     },
     "execution_count": 169,
     "metadata": {},
     "output_type": "execute_result"
    }
   ],
   "source": [
    "s1.symmetric_difference(s3)"
   ]
  },
  {
   "cell_type": "code",
   "execution_count": 170,
   "id": "ddedae62",
   "metadata": {},
   "outputs": [
    {
     "data": {
      "text/plain": [
       "{1, 9}"
      ]
     },
     "execution_count": 170,
     "metadata": {},
     "output_type": "execute_result"
    }
   ],
   "source": [
    "s1"
   ]
  },
  {
   "cell_type": "code",
   "execution_count": 171,
   "id": "b12499cf",
   "metadata": {},
   "outputs": [
    {
     "data": {
      "text/plain": [
       "{4, 9}"
      ]
     },
     "execution_count": 171,
     "metadata": {},
     "output_type": "execute_result"
    }
   ],
   "source": [
    "s3"
   ]
  },
  {
   "cell_type": "code",
   "execution_count": 173,
   "id": "08c2547d",
   "metadata": {},
   "outputs": [],
   "source": [
    "s3.add(33)"
   ]
  },
  {
   "cell_type": "code",
   "execution_count": 174,
   "id": "cc976c93",
   "metadata": {},
   "outputs": [
    {
     "data": {
      "text/plain": [
       "{4, 9, 33}"
      ]
     },
     "execution_count": 174,
     "metadata": {},
     "output_type": "execute_result"
    }
   ],
   "source": [
    "s3"
   ]
  },
  {
   "cell_type": "code",
   "execution_count": 175,
   "id": "aa3fd6d0",
   "metadata": {},
   "outputs": [],
   "source": [
    "s3.add(2)"
   ]
  },
  {
   "cell_type": "code",
   "execution_count": 176,
   "id": "6c48f4a5",
   "metadata": {},
   "outputs": [
    {
     "data": {
      "text/plain": [
       "{2, 4, 9, 33}"
      ]
     },
     "execution_count": 176,
     "metadata": {},
     "output_type": "execute_result"
    }
   ],
   "source": [
    "s3"
   ]
  },
  {
   "cell_type": "code",
   "execution_count": 177,
   "id": "a774b729",
   "metadata": {},
   "outputs": [
    {
     "data": {
      "text/plain": [
       "{1, 9}"
      ]
     },
     "execution_count": 177,
     "metadata": {},
     "output_type": "execute_result"
    }
   ],
   "source": [
    "s1"
   ]
  },
  {
   "cell_type": "code",
   "execution_count": 178,
   "id": "8adfe436",
   "metadata": {},
   "outputs": [
    {
     "data": {
      "text/plain": [
       "{1}"
      ]
     },
     "execution_count": 178,
     "metadata": {},
     "output_type": "execute_result"
    }
   ],
   "source": [
    "s1.difference(s3)"
   ]
  },
  {
   "cell_type": "code",
   "execution_count": 179,
   "id": "b504cef7",
   "metadata": {},
   "outputs": [
    {
     "data": {
      "text/plain": [
       "{2, 4, 33}"
      ]
     },
     "execution_count": 179,
     "metadata": {},
     "output_type": "execute_result"
    }
   ],
   "source": [
    "s3.difference(s1)"
   ]
  },
  {
   "cell_type": "code",
   "execution_count": 180,
   "id": "d6d0cdab",
   "metadata": {},
   "outputs": [
    {
     "data": {
      "text/plain": [
       "{1, 9}"
      ]
     },
     "execution_count": 180,
     "metadata": {},
     "output_type": "execute_result"
    }
   ],
   "source": [
    "s1"
   ]
  },
  {
   "cell_type": "code",
   "execution_count": 181,
   "id": "f7823430",
   "metadata": {},
   "outputs": [
    {
     "data": {
      "text/plain": [
       "{2, 4, 9, 33}"
      ]
     },
     "execution_count": 181,
     "metadata": {},
     "output_type": "execute_result"
    }
   ],
   "source": [
    "s3"
   ]
  },
  {
   "cell_type": "code",
   "execution_count": 182,
   "id": "2e648953",
   "metadata": {},
   "outputs": [
    {
     "data": {
      "text/plain": [
       "{1, 2, 4, 33}"
      ]
     },
     "execution_count": 182,
     "metadata": {},
     "output_type": "execute_result"
    }
   ],
   "source": [
    "s1.symmetric_difference(s3)"
   ]
  },
  {
   "cell_type": "code",
   "execution_count": 183,
   "id": "7bde6d96",
   "metadata": {},
   "outputs": [
    {
     "data": {
      "text/plain": [
       "{1}"
      ]
     },
     "execution_count": 183,
     "metadata": {},
     "output_type": "execute_result"
    }
   ],
   "source": [
    "s1.difference(s3)"
   ]
  },
  {
   "cell_type": "code",
   "execution_count": 184,
   "id": "1d9a1571",
   "metadata": {},
   "outputs": [
    {
     "data": {
      "text/plain": [
       "{1, 2, 4, 33}"
      ]
     },
     "execution_count": 184,
     "metadata": {},
     "output_type": "execute_result"
    }
   ],
   "source": [
    "s3.symmetric_difference(s1)"
   ]
  },
  {
   "cell_type": "code",
   "execution_count": 185,
   "id": "3558ac5e",
   "metadata": {},
   "outputs": [
    {
     "data": {
      "text/plain": [
       "{1, 2, 4, 9, 33}"
      ]
     },
     "execution_count": 185,
     "metadata": {},
     "output_type": "execute_result"
    }
   ],
   "source": [
    "s3.union(s1)"
   ]
  },
  {
   "cell_type": "code",
   "execution_count": 186,
   "id": "ce314587",
   "metadata": {},
   "outputs": [
    {
     "data": {
      "text/plain": [
       "{2, 4, 9, 33}"
      ]
     },
     "execution_count": 186,
     "metadata": {},
     "output_type": "execute_result"
    }
   ],
   "source": [
    "s3"
   ]
  },
  {
   "cell_type": "code",
   "execution_count": 190,
   "id": "fb8768d4",
   "metadata": {},
   "outputs": [],
   "source": [
    "s1.update(s3)"
   ]
  },
  {
   "cell_type": "code",
   "execution_count": 191,
   "id": "015d7e1f",
   "metadata": {},
   "outputs": [
    {
     "data": {
      "text/plain": [
       "{1, 2, 4, 9, 33}"
      ]
     },
     "execution_count": 191,
     "metadata": {},
     "output_type": "execute_result"
    }
   ],
   "source": [
    "s3"
   ]
  },
  {
   "cell_type": "code",
   "execution_count": 192,
   "id": "be3ec973",
   "metadata": {},
   "outputs": [
    {
     "data": {
      "text/plain": [
       "set()"
      ]
     },
     "execution_count": 192,
     "metadata": {},
     "output_type": "execute_result"
    }
   ],
   "source": [
    "s3.symmetric_difference(s1)"
   ]
  },
  {
   "cell_type": "code",
   "execution_count": 195,
   "id": "17d52281",
   "metadata": {},
   "outputs": [],
   "source": [
    "s3.update([83,45,53,64])"
   ]
  },
  {
   "cell_type": "markdown",
   "id": "dd2e8fbb",
   "metadata": {},
   "source": [
    "### "
   ]
  },
  {
   "cell_type": "code",
   "execution_count": 196,
   "id": "6bead9da",
   "metadata": {},
   "outputs": [
    {
     "data": {
      "text/plain": [
       "{1, 2, 3, 4, 5, 6, 9, 33, 45, 53, 64, 83}"
      ]
     },
     "execution_count": 196,
     "metadata": {},
     "output_type": "execute_result"
    }
   ],
   "source": [
    "s3"
   ]
  },
  {
   "cell_type": "code",
   "execution_count": 197,
   "id": "08694c66",
   "metadata": {},
   "outputs": [
    {
     "data": {
      "text/plain": [
       "{1, 2, 4, 9, 33}"
      ]
     },
     "execution_count": 197,
     "metadata": {},
     "output_type": "execute_result"
    }
   ],
   "source": [
    "s1"
   ]
  },
  {
   "cell_type": "code",
   "execution_count": 198,
   "id": "79450f01",
   "metadata": {},
   "outputs": [
    {
     "data": {
      "text/plain": [
       "{1, 2, 3, 4, 5, 6, 9, 33, 45, 53, 64, 83}"
      ]
     },
     "execution_count": 198,
     "metadata": {},
     "output_type": "execute_result"
    }
   ],
   "source": [
    "s3"
   ]
  },
  {
   "cell_type": "code",
   "execution_count": null,
   "id": "c33fcfac",
   "metadata": {},
   "outputs": [],
   "source": []
  },
  {
   "cell_type": "code",
   "execution_count": 199,
   "id": "4385e19b",
   "metadata": {},
   "outputs": [
    {
     "data": {
      "text/plain": [
       "set()"
      ]
     },
     "execution_count": 199,
     "metadata": {},
     "output_type": "execute_result"
    }
   ],
   "source": [
    "s1.difference(s3)"
   ]
  },
  {
   "cell_type": "code",
   "execution_count": null,
   "id": "d8f684f7",
   "metadata": {},
   "outputs": [],
   "source": []
  }
 ],
 "metadata": {
  "kernelspec": {
   "display_name": "Python 3 (ipykernel)",
   "language": "python",
   "name": "python3"
  },
  "language_info": {
   "codemirror_mode": {
    "name": "ipython",
    "version": 3
   },
   "file_extension": ".py",
   "mimetype": "text/x-python",
   "name": "python",
   "nbconvert_exporter": "python",
   "pygments_lexer": "ipython3",
   "version": "3.9.13"
  }
 },
 "nbformat": 4,
 "nbformat_minor": 5
}
