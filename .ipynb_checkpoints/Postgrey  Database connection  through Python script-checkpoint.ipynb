{
 "cells": [
  {
   "cell_type": "code",
   "execution_count": 1,
   "id": "8223d700",
   "metadata": {},
   "outputs": [],
   "source": [
    "import psycopg2"
   ]
  },
  {
   "cell_type": "code",
   "execution_count": 2,
   "id": "53709576",
   "metadata": {},
   "outputs": [],
   "source": [
    "server='localhost'\n",
    "db = 'employee'\n",
    "username = 'postgres'\n",
    "pw = 'Bakhtawar@123'\n",
    "portno = 5432"
   ]
  },
  {
   "cell_type": "code",
   "execution_count": 4,
   "id": "b003abac",
   "metadata": {},
   "outputs": [],
   "source": [
    "conn = None\n",
    "cur = None\n",
    "\n",
    "try:\n",
    "    conn=psycopg2.connect(host=server, dbname=db, user=username, password=pw, port=portno)\n",
    "    cur=conn.cursor()\n",
    "    \n",
    "    drop_table='DROP TABLE IF EXISTS TELENOR'\n",
    "    cur.execute(drop_table)\n",
    "    \n",
    "    create_table= '''\n",
    "    CREATE TABLE IF NOT EXISTS TELENOR(\n",
    "    ID INT PRIMARY KEY NOT NULL,\n",
    "    NAME VARCHAR(40) NOT NULL,\n",
    "    SALARY INT NOT NULL,\n",
    "    DEPARTMENT VARCHAR(40))'''\n",
    "    cur.execute(create_table)\n",
    "    \n",
    "  \n",
    "    insert_data= '''INSERT INTO TELENOR (ID,NAME,SALARY,DEPARTMENT) VALUES(701,'bazil',121942,'SOC')'''\n",
    "    cur.execute(insert_data)\n",
    "    insert_data= '''INSERT INTO TELENOR (ID,NAME,SALARY,DEPARTMENT) VALUES(702,'Ayesha',324509,'SOC')'''\n",
    "    cur.execute(insert_data)\n",
    "    \n",
    "    conn.commit()\n",
    "except Exception as e:\n",
    "    print(\"exception detected : \" + str(e))\n",
    "    \n",
    "else:\n",
    "    pass\n",
    "\n",
    "finally:\n",
    "    if conn is not None:\n",
    "        conn.close()\n",
    "    if cur is not None:\n",
    "        cur.close()"
   ]
  },
  {
   "cell_type": "code",
   "execution_count": null,
   "id": "1c1ed70a",
   "metadata": {},
   "outputs": [],
   "source": []
  },
  {
   "cell_type": "code",
   "execution_count": null,
   "id": "80440af5",
   "metadata": {},
   "outputs": [],
   "source": []
  },
  {
   "cell_type": "code",
   "execution_count": null,
   "id": "225c0765",
   "metadata": {},
   "outputs": [],
   "source": []
  },
  {
   "cell_type": "code",
   "execution_count": 6,
   "id": "7ba8f6dc",
   "metadata": {},
   "outputs": [],
   "source": [
    "import psycopg2\n",
    "import psycopg2.extras"
   ]
  },
  {
   "cell_type": "code",
   "execution_count": null,
   "id": "d1cd0622",
   "metadata": {},
   "outputs": [],
   "source": []
  },
  {
   "cell_type": "code",
   "execution_count": 23,
   "id": "f905c2ad",
   "metadata": {},
   "outputs": [],
   "source": [
    "conn = None\n",
    "cur = None\n",
    "\n",
    "try:\n",
    "    conn=psycopg2.connect(host=server, dbname=db, user=username, password=pw, port=portno)\n",
    "    cur=conn.cursor(cursor_factory=psycopg2.extras.DictCursor)\n",
    "    \n",
    "    drop_table='DROP TABLE IF EXISTS TELENOR'\n",
    "    cur.execute(drop_table)\n",
    "    \n",
    "    create_table= '''\n",
    "    CREATE TABLE IF NOT EXISTS TELENOR(\n",
    "    ID INT PRIMARY KEY NOT NULL,\n",
    "    NAME VARCHAR(40) NOT NULL,\n",
    "    SALARY INT NOT NULL,\n",
    "    DEPARTMENT VARCHAR(40))'''\n",
    "    cur.execute(create_table)\n",
    "    \n",
    "  \n",
    "    insert_data= '''\n",
    "    INSERT INTO TELENOR (ID,NAME,SALARY,DEPARTMENT)\n",
    "    VALUES(%s,%s,%s,%s)\n",
    "    '''\n",
    "    \n",
    "    values=[\n",
    "        (321,'areeb',654369,'mobilink'),\n",
    "        (322,'bazil',546325,'jazz'),\n",
    "        (323,'Ayesha',356451,'Warid'),\n",
    "        (324,'rozi',741852,'burjeel')]\n",
    "    for each in values:\n",
    "        cur.execute(insert_data,each)\n",
    "    \n",
    "    \n",
    "    update_table=''' UPDATE TELENOR SET SALARY=SALARY + (SALARY *0.5)'''\n",
    "    cur.execute(update_table)\n",
    "    \n",
    "    ########del_table=''' \n",
    "    ############DELETE FROM TELENOR WHERE NAME='rozi'\n",
    "   ######## '''\n",
    "   ######### cur.execute(del_table)\n",
    "    \n",
    "    ###############another way to delte multpli names\n",
    "    \n",
    "    del_table=''' \n",
    "    DELETE FROM TELENOR WHERE NAME=%s\n",
    "    '''\n",
    "    del_name=(\"bazil\",)\n",
    "    cur.execute(del_table,del_name)\n",
    "    \n",
    "    \n",
    "    \n",
    "    \n",
    "    conn.commit()\n",
    "except Exception as e:\n",
    "    print(\"exception detected : \" + str(e))\n",
    "    \n",
    "else:\n",
    "    pass\n",
    "\n",
    "finally:\n",
    "    if conn is not None:\n",
    "        conn.close()\n",
    "    if cur is not None:\n",
    "        cur.close()"
   ]
  },
  {
   "cell_type": "code",
   "execution_count": null,
   "id": "61090ecb",
   "metadata": {},
   "outputs": [],
   "source": []
  },
  {
   "cell_type": "code",
   "execution_count": null,
   "id": "64aea863",
   "metadata": {},
   "outputs": [],
   "source": []
  },
  {
   "cell_type": "code",
   "execution_count": null,
   "id": "56841943",
   "metadata": {},
   "outputs": [],
   "source": []
  },
  {
   "cell_type": "code",
   "execution_count": null,
   "id": "76fd07f8",
   "metadata": {},
   "outputs": [],
   "source": []
  }
 ],
 "metadata": {
  "kernelspec": {
   "display_name": "Python 3 (ipykernel)",
   "language": "python",
   "name": "python3"
  },
  "language_info": {
   "codemirror_mode": {
    "name": "ipython",
    "version": 3
   },
   "file_extension": ".py",
   "mimetype": "text/x-python",
   "name": "python",
   "nbconvert_exporter": "python",
   "pygments_lexer": "ipython3",
   "version": "3.9.13"
  }
 },
 "nbformat": 4,
 "nbformat_minor": 5
}
