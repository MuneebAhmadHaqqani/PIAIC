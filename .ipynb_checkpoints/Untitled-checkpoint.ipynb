{
 "cells": [
  {
   "cell_type": "code",
   "execution_count": 231,
   "id": "1eb13dee",
   "metadata": {},
   "outputs": [],
   "source": [
    "class A:\n",
    "    def __init__(self):\n",
    "        print(\"i am initilizer of A\")\n",
    "    def feature1(self):\n",
    "        print(\"feature1\")\n",
    "        "
   ]
  },
  {
   "cell_type": "code",
   "execution_count": 232,
   "id": "9e62e958",
   "metadata": {},
   "outputs": [
    {
     "name": "stdout",
     "output_type": "stream",
     "text": [
      "i am initilizer of A\n"
     ]
    }
   ],
   "source": [
    "a1=A()"
   ]
  },
  {
   "cell_type": "code",
   "execution_count": 233,
   "id": "d38c50a7",
   "metadata": {},
   "outputs": [
    {
     "name": "stdout",
     "output_type": "stream",
     "text": [
      "feature1\n"
     ]
    }
   ],
   "source": [
    "a1.feature1()"
   ]
  },
  {
   "cell_type": "code",
   "execution_count": 238,
   "id": "b20a9d7b",
   "metadata": {},
   "outputs": [],
   "source": [
    "class B(A):\n",
    "    def __init__(self):\n",
    "        print(\"i am initilizer of B\")\n",
    "        super().__init__()\n",
    "    def feature2(self):\n",
    "        print(\"feature2\")"
   ]
  },
  {
   "cell_type": "code",
   "execution_count": 239,
   "id": "7828bea2",
   "metadata": {},
   "outputs": [
    {
     "name": "stdout",
     "output_type": "stream",
     "text": [
      "i am initilizer of B\n",
      "i am initilizer of A\n"
     ]
    }
   ],
   "source": [
    "b1=B()"
   ]
  },
  {
   "cell_type": "code",
   "execution_count": 204,
   "id": "73ee4ec1",
   "metadata": {},
   "outputs": [
    {
     "name": "stdout",
     "output_type": "stream",
     "text": [
      "feature1\n"
     ]
    }
   ],
   "source": [
    "b1.feature1()"
   ]
  },
  {
   "cell_type": "code",
   "execution_count": 206,
   "id": "7380a2ab",
   "metadata": {},
   "outputs": [
    {
     "data": {
      "text/plain": [
       "<bound method B.feature2 of <__main__.B object at 0x00000251AE1D8460>>"
      ]
     },
     "execution_count": 206,
     "metadata": {},
     "output_type": "execute_result"
    }
   ],
   "source": [
    "b1.feature2"
   ]
  },
  {
   "cell_type": "code",
   "execution_count": 207,
   "id": "2beaa32f",
   "metadata": {},
   "outputs": [],
   "source": [
    "class C(B):\n",
    "    def feature3(self):\n",
    "        print(\"feature3\")"
   ]
  },
  {
   "cell_type": "code",
   "execution_count": 208,
   "id": "a93f1ef1",
   "metadata": {},
   "outputs": [],
   "source": [
    "c1=C()"
   ]
  },
  {
   "cell_type": "code",
   "execution_count": 209,
   "id": "9015c443",
   "metadata": {},
   "outputs": [
    {
     "name": "stdout",
     "output_type": "stream",
     "text": [
      "feature1\n"
     ]
    }
   ],
   "source": [
    "c1.feature1()"
   ]
  },
  {
   "cell_type": "code",
   "execution_count": 210,
   "id": "786708db",
   "metadata": {},
   "outputs": [
    {
     "name": "stdout",
     "output_type": "stream",
     "text": [
      "feature2\n"
     ]
    }
   ],
   "source": [
    "c1.feature2()"
   ]
  },
  {
   "cell_type": "code",
   "execution_count": 211,
   "id": "bfc6f730",
   "metadata": {},
   "outputs": [
    {
     "name": "stdout",
     "output_type": "stream",
     "text": [
      "feature3\n"
     ]
    }
   ],
   "source": [
    "c1.feature3()"
   ]
  },
  {
   "cell_type": "markdown",
   "id": "f2314701",
   "metadata": {},
   "source": [
    "## Multiple Inheritance"
   ]
  },
  {
   "cell_type": "code",
   "execution_count": 249,
   "id": "ed2f178a",
   "metadata": {},
   "outputs": [],
   "source": [
    "class A:\n",
    "    def __init__(self):\n",
    "        print(\"i am initilizer of A\")\n",
    "    def feature1(self):\n",
    "        print(\"feature1 of class A\")\n",
    "    def feature2(self):\n",
    "        print(\"feature2 of class A\")   \n",
    "    def show(self):\n",
    "        print(\"I am show of A\")"
   ]
  },
  {
   "cell_type": "code",
   "execution_count": 273,
   "id": "ab60e750",
   "metadata": {},
   "outputs": [],
   "source": [
    "class B:\n",
    "    def __init__(self):\n",
    "        print(\"i am initilizer of B\")\n",
    "    def feature3(self):\n",
    "        print(\"feature3 of class B\")\n",
    "    def feature4(self):\n",
    "        print(\"feature4 of class B\")\n",
    "    def show(self):\n",
    "        print(\"I am show of B\")\n",
    " "
   ]
  },
  {
   "cell_type": "code",
   "execution_count": 274,
   "id": "bd6b25df",
   "metadata": {},
   "outputs": [],
   "source": [
    "class C(B,A):\n",
    "    def __init__(self):\n",
    "        print(\"i am initilizer of C\")\n",
    "        super().__init__()\n",
    "        super().show()\n",
    "    \n",
    "    def feature5(self):\n",
    "        print(\"feature5 of class C\")\n",
    "    def feature6(self):\n",
    "        print(\"feature6of class C\")\n",
    "    def call_others(self):\n",
    "        super().feature2()"
   ]
  },
  {
   "cell_type": "code",
   "execution_count": 275,
   "id": "a5588657",
   "metadata": {
    "scrolled": true
   },
   "outputs": [
    {
     "name": "stdout",
     "output_type": "stream",
     "text": [
      "i am initilizer of C\n",
      "i am initilizer of B\n",
      "I am show of B\n"
     ]
    }
   ],
   "source": [
    "c1=C()"
   ]
  },
  {
   "cell_type": "code",
   "execution_count": 276,
   "id": "58f232d0",
   "metadata": {},
   "outputs": [
    {
     "name": "stdout",
     "output_type": "stream",
     "text": [
      "I am show of B\n"
     ]
    }
   ],
   "source": [
    "c1.show()"
   ]
  },
  {
   "cell_type": "code",
   "execution_count": 277,
   "id": "40f56869",
   "metadata": {},
   "outputs": [
    {
     "name": "stdout",
     "output_type": "stream",
     "text": [
      "feature2 of class A\n"
     ]
    }
   ],
   "source": [
    "c1.call_others()"
   ]
  },
  {
   "cell_type": "code",
   "execution_count": 256,
   "id": "f7ffdd69",
   "metadata": {},
   "outputs": [
    {
     "name": "stdout",
     "output_type": "stream",
     "text": [
      "feature1 of class A\n",
      "None\n",
      "feature2 of class A\n",
      "None\n",
      "feature3 of class B\n",
      "None\n",
      "feature4 of class B\n",
      "None\n",
      "feature5 of class C\n",
      "None\n",
      "feature6of class C\n",
      "None\n"
     ]
    }
   ],
   "source": [
    "print(c1.feature1())\n",
    "print(c1.feature2())\n",
    "print(c1.feature3())\n",
    "print(c1.feature4())\n",
    "print(c1.feature5())\n",
    "print(c1.feature6())"
   ]
  },
  {
   "cell_type": "code",
   "execution_count": 278,
   "id": "6d3de4cb",
   "metadata": {},
   "outputs": [],
   "source": [
    "a=11\n",
    "b=3"
   ]
  },
  {
   "cell_type": "code",
   "execution_count": 279,
   "id": "2f89e4d3",
   "metadata": {},
   "outputs": [
    {
     "data": {
      "text/plain": [
       "14"
      ]
     },
     "execution_count": 279,
     "metadata": {},
     "output_type": "execute_result"
    }
   ],
   "source": [
    "a+b"
   ]
  },
  {
   "cell_type": "code",
   "execution_count": 280,
   "id": "2a1577ef",
   "metadata": {},
   "outputs": [
    {
     "data": {
      "text/plain": [
       "14"
      ]
     },
     "execution_count": 280,
     "metadata": {},
     "output_type": "execute_result"
    }
   ],
   "source": [
    "a.__add__(b)"
   ]
  },
  {
   "cell_type": "code",
   "execution_count": 281,
   "id": "01e41d6b",
   "metadata": {},
   "outputs": [
    {
     "data": {
      "text/plain": [
       "14"
      ]
     },
     "execution_count": 281,
     "metadata": {},
     "output_type": "execute_result"
    }
   ],
   "source": [
    "int.__add__(a,b)"
   ]
  },
  {
   "cell_type": "code",
   "execution_count": 32,
   "id": "53d378ca",
   "metadata": {},
   "outputs": [],
   "source": [
    "class Student:\n",
    "    def __init__(self,m11,m22):\n",
    "        self.m11 = m11\n",
    "        self.m22 = m22\n",
    "    def __add__(self,other):\n",
    "        number1 = self.m11 + other.m11\n",
    "        number2 = self.m22 + other.m22\n",
    "        total=Student(number1,number2)\n",
    "        return total\n",
    "    def __str__(self):\n",
    "        return(f\"{self.m11} {self.m22}\")\n",
    "    \n",
    "    def __gt__(self,other):\n",
    "        t1 = self.m1+ self.m2\n",
    "        t2 = other.m1 + other.m2\n",
    "        if t1 > t2:\n",
    "            return True\n",
    "        else:\n",
    "            return False\n",
    "    "
   ]
  },
  {
   "cell_type": "code",
   "execution_count": 33,
   "id": "3d9a508b",
   "metadata": {},
   "outputs": [],
   "source": [
    "s1=Student(2,3)\n",
    "s2=Student(10,1)"
   ]
  },
  {
   "cell_type": "code",
   "execution_count": 40,
   "id": "8d00c099",
   "metadata": {},
   "outputs": [],
   "source": [
    "from abc import ABC,abstractmethod"
   ]
  },
  {
   "cell_type": "code",
   "execution_count": 54,
   "id": "0be0dbe4",
   "metadata": {},
   "outputs": [],
   "source": [
    "class Computer(ABC):\n",
    "    @abstractmethod\n",
    "    def process(self):\n",
    "        pass\n",
    "    @abstractmethod\n",
    "    def greet(self):\n",
    "        pass"
   ]
  },
  {
   "cell_type": "code",
   "execution_count": 55,
   "id": "08b5192a",
   "metadata": {},
   "outputs": [],
   "source": [
    "class Laptop(Computer):\n",
    "    def process(self):\n",
    "        print(\"she is processing\")\n",
    "    def greet(self):\n",
    "        print(\"Hello ! welcome to all of you\")\n",
    "        "
   ]
  },
  {
   "cell_type": "code",
   "execution_count": 56,
   "id": "da57554f",
   "metadata": {},
   "outputs": [],
   "source": [
    "l1=Laptop()"
   ]
  },
  {
   "cell_type": "code",
   "execution_count": 57,
   "id": "4fb3bf49",
   "metadata": {},
   "outputs": [
    {
     "name": "stdout",
     "output_type": "stream",
     "text": [
      "she is processing\n"
     ]
    }
   ],
   "source": [
    "l1.process()"
   ]
  },
  {
   "cell_type": "code",
   "execution_count": 58,
   "id": "0d3df5a4",
   "metadata": {},
   "outputs": [
    {
     "name": "stdout",
     "output_type": "stream",
     "text": [
      "Hello ! welcome to all of you\n"
     ]
    }
   ],
   "source": [
    "l1.greet()"
   ]
  },
  {
   "cell_type": "code",
   "execution_count": 59,
   "id": "a1420b4c",
   "metadata": {},
   "outputs": [],
   "source": [
    "class Car(ABC):\n",
    "    @abstractmethod\n",
    "    def milage(self):\n",
    "        pass"
   ]
  },
  {
   "cell_type": "code",
   "execution_count": 60,
   "id": "7c03a9b0",
   "metadata": {},
   "outputs": [],
   "source": [
    "class Suzuki(Car):\n",
    "    def milage(self):\n",
    "        print(\"it runs 300kmph..I am suzuki\")\n",
    "class BMW(Car):\n",
    "    def milage(self):\n",
    "        print(\"it runs 1200kmph..I am BMW\")\n",
    "class Mercedes(Car):\n",
    "    def milage(self):\n",
    "        print(\"it runs 300kmph ...I am Mercedes\")"
   ]
  },
  {
   "cell_type": "code",
   "execution_count": 64,
   "id": "50371ca9",
   "metadata": {},
   "outputs": [],
   "source": [
    "s1 = Suzuki()\n",
    "b1 = BMW()\n",
    "m1 = Mercedes()"
   ]
  },
  {
   "cell_type": "code",
   "execution_count": 66,
   "id": "e95762d1",
   "metadata": {},
   "outputs": [
    {
     "name": "stdout",
     "output_type": "stream",
     "text": [
      "it runs 1200kmph..I am BMW\n"
     ]
    }
   ],
   "source": [
    "b1.milage()"
   ]
  },
  {
   "cell_type": "code",
   "execution_count": 67,
   "id": "1d6569c8",
   "metadata": {},
   "outputs": [
    {
     "name": "stdout",
     "output_type": "stream",
     "text": [
      "it runs 300kmph..I am suzuki\n"
     ]
    }
   ],
   "source": [
    "s1.milage()"
   ]
  },
  {
   "cell_type": "code",
   "execution_count": 68,
   "id": "8d95de85",
   "metadata": {},
   "outputs": [
    {
     "name": "stdout",
     "output_type": "stream",
     "text": [
      "it runs 300kmph ...I am Mercedes\n"
     ]
    }
   ],
   "source": [
    "m1.milage()"
   ]
  },
  {
   "cell_type": "code",
   "execution_count": 69,
   "id": "7793d23d",
   "metadata": {},
   "outputs": [],
   "source": [
    "from abc import ABC,abstractmethod\n"
   ]
  },
  {
   "cell_type": "code",
   "execution_count": 71,
   "id": "e3f02c0a",
   "metadata": {},
   "outputs": [],
   "source": [
    "class Polygon(ABC):\n",
    "    @abstractmethod\n",
    "    def area(self,l,w):\n",
    "        pass\n",
    "    "
   ]
  },
  {
   "cell_type": "code",
   "execution_count": 73,
   "id": "2b620ccd",
   "metadata": {},
   "outputs": [],
   "source": [
    "class Pentagon(Polygon):\n",
    "    def area(self,l,w):\n",
    "        print(0.5*l*w)"
   ]
  },
  {
   "cell_type": "code",
   "execution_count": 74,
   "id": "1edefb16",
   "metadata": {},
   "outputs": [],
   "source": [
    "p1 = Pentagon()"
   ]
  },
  {
   "cell_type": "code",
   "execution_count": 75,
   "id": "ddf2a6c7",
   "metadata": {},
   "outputs": [
    {
     "name": "stdout",
     "output_type": "stream",
     "text": [
      "3.0\n"
     ]
    }
   ],
   "source": [
    "p1.area(2,3)"
   ]
  },
  {
   "cell_type": "code",
   "execution_count": 76,
   "id": "762a4317",
   "metadata": {},
   "outputs": [],
   "source": [
    "class Hexagon(Polygon):\n",
    "    def area(self,l,w,h):\n",
    "        print(0.4*l*w*h)"
   ]
  },
  {
   "cell_type": "code",
   "execution_count": 77,
   "id": "d4ab8096",
   "metadata": {},
   "outputs": [],
   "source": [
    "h1= Hexagon()"
   ]
  },
  {
   "cell_type": "code",
   "execution_count": 78,
   "id": "fe18e779",
   "metadata": {},
   "outputs": [
    {
     "name": "stdout",
     "output_type": "stream",
     "text": [
      "24.000000000000004\n"
     ]
    }
   ],
   "source": [
    "h1.area(3,4,5)"
   ]
  },
  {
   "cell_type": "markdown",
   "id": "e3af9522",
   "metadata": {},
   "source": [
    "## OOP Public,Protected and Private Variables"
   ]
  },
  {
   "cell_type": "code",
   "execution_count": 81,
   "id": "0c5c13f2",
   "metadata": {},
   "outputs": [],
   "source": [
    "class Car:\n",
    "    wheel = 4  #class level attributes\n",
    "    def __init__(self,brand,name,capacity,transmission):\n",
    "        self.brand = brand   # instance level attributes\n",
    "        self.name = name\n",
    "        self.capacity = capacity\n",
    "        self.transmission = transmission"
   ]
  },
  {
   "cell_type": "code",
   "execution_count": 82,
   "id": "09290402",
   "metadata": {},
   "outputs": [],
   "source": [
    "c1=Car(\"honda\",\"civic\",4,\"auto\")"
   ]
  },
  {
   "cell_type": "code",
   "execution_count": 88,
   "id": "cac5022b",
   "metadata": {},
   "outputs": [],
   "source": [
    "class Sportscar(Car):\n",
    "    def __init__(self,brand,name,capacity,transmission,speed):\n",
    "        self.speed = speed\n",
    "        super().__init__(brand,name,capacity,transmission)"
   ]
  },
  {
   "cell_type": "code",
   "execution_count": 89,
   "id": "cefb0984",
   "metadata": {},
   "outputs": [],
   "source": [
    "sc1 = Sportscar(\"Tesla\",\"Horo\",2,\"Auto\",\"2900kmph\")"
   ]
  },
  {
   "cell_type": "code",
   "execution_count": 90,
   "id": "e5d4275e",
   "metadata": {},
   "outputs": [
    {
     "data": {
      "text/plain": [
       "['__class__',\n",
       " '__delattr__',\n",
       " '__dict__',\n",
       " '__dir__',\n",
       " '__doc__',\n",
       " '__eq__',\n",
       " '__format__',\n",
       " '__ge__',\n",
       " '__getattribute__',\n",
       " '__gt__',\n",
       " '__hash__',\n",
       " '__init__',\n",
       " '__init_subclass__',\n",
       " '__le__',\n",
       " '__lt__',\n",
       " '__module__',\n",
       " '__ne__',\n",
       " '__new__',\n",
       " '__reduce__',\n",
       " '__reduce_ex__',\n",
       " '__repr__',\n",
       " '__setattr__',\n",
       " '__sizeof__',\n",
       " '__str__',\n",
       " '__subclasshook__',\n",
       " '__weakref__',\n",
       " 'brand',\n",
       " 'capacity',\n",
       " 'name',\n",
       " 'speed',\n",
       " 'transmission',\n",
       " 'wheel']"
      ]
     },
     "execution_count": 90,
     "metadata": {},
     "output_type": "execute_result"
    }
   ],
   "source": [
    "dir(sc1)"
   ]
  },
  {
   "cell_type": "code",
   "execution_count": 102,
   "id": "6e3c05ed",
   "metadata": {},
   "outputs": [],
   "source": [
    "class Car:\n",
    "    wheel = 4  #class level attributes\n",
    "    def __init__(self,brand,name,capacity,transmission):\n",
    "        self._brand = brand   # instance level attributes\n",
    "        self._name = name\n",
    "        self.capacity = capacity\n",
    "        self.transmission = transmission"
   ]
  },
  {
   "cell_type": "code",
   "execution_count": 103,
   "id": "961a3afd",
   "metadata": {},
   "outputs": [],
   "source": [
    "c1=Car(\"honda\",\"civic\",4,\"auto\")"
   ]
  },
  {
   "cell_type": "code",
   "execution_count": 104,
   "id": "0d37600b",
   "metadata": {},
   "outputs": [],
   "source": [
    "class Sportscar(Car):\n",
    "    def __init__(self,brand,name,capacity,transmission,speed):\n",
    "        self.speed = speed\n",
    "        super().__init__(brand,name,capacity,transmission)"
   ]
  },
  {
   "cell_type": "code",
   "execution_count": 105,
   "id": "d96cd8ff",
   "metadata": {},
   "outputs": [],
   "source": [
    "sc1 = Sportscar(\"Tesla\",\"Horo\",2,\"Auto\",\"2900kmph\")"
   ]
  },
  {
   "cell_type": "code",
   "execution_count": 106,
   "id": "f2c62a80",
   "metadata": {},
   "outputs": [
    {
     "data": {
      "text/plain": [
       "['__class__',\n",
       " '__delattr__',\n",
       " '__dict__',\n",
       " '__dir__',\n",
       " '__doc__',\n",
       " '__eq__',\n",
       " '__format__',\n",
       " '__ge__',\n",
       " '__getattribute__',\n",
       " '__gt__',\n",
       " '__hash__',\n",
       " '__init__',\n",
       " '__init_subclass__',\n",
       " '__le__',\n",
       " '__lt__',\n",
       " '__module__',\n",
       " '__ne__',\n",
       " '__new__',\n",
       " '__reduce__',\n",
       " '__reduce_ex__',\n",
       " '__repr__',\n",
       " '__setattr__',\n",
       " '__sizeof__',\n",
       " '__str__',\n",
       " '__subclasshook__',\n",
       " '__weakref__',\n",
       " '_brand',\n",
       " '_name',\n",
       " 'capacity',\n",
       " 'speed',\n",
       " 'transmission',\n",
       " 'wheel']"
      ]
     },
     "execution_count": 106,
     "metadata": {},
     "output_type": "execute_result"
    }
   ],
   "source": [
    "dir(sc1)"
   ]
  },
  {
   "cell_type": "code",
   "execution_count": 19,
   "id": "15e0c04f",
   "metadata": {},
   "outputs": [],
   "source": [
    "class Teacher:\n",
    "\n",
    "    def __init__(self,name,age):\n",
    "        self.name = name\n",
    "        self.age = age\n",
    "    area = 123\n",
    "        \n",
    "    "
   ]
  },
  {
   "cell_type": "code",
   "execution_count": 20,
   "id": "a2bde0dc",
   "metadata": {},
   "outputs": [],
   "source": [
    "t1=Teacher(\"Muneeb\",343)"
   ]
  },
  {
   "cell_type": "code",
   "execution_count": 21,
   "id": "d8f40900",
   "metadata": {},
   "outputs": [
    {
     "data": {
      "text/plain": [
       "343"
      ]
     },
     "execution_count": 21,
     "metadata": {},
     "output_type": "execute_result"
    }
   ],
   "source": [
    "t1.age"
   ]
  },
  {
   "cell_type": "code",
   "execution_count": 22,
   "id": "0300b401",
   "metadata": {},
   "outputs": [],
   "source": [
    "t2=Teacher(\"Amun\",1233)"
   ]
  },
  {
   "cell_type": "code",
   "execution_count": 23,
   "id": "5ccde19f",
   "metadata": {},
   "outputs": [
    {
     "data": {
      "text/plain": [
       "1233"
      ]
     },
     "execution_count": 23,
     "metadata": {},
     "output_type": "execute_result"
    }
   ],
   "source": [
    "t2.age"
   ]
  },
  {
   "cell_type": "code",
   "execution_count": 26,
   "id": "3b911fec",
   "metadata": {},
   "outputs": [],
   "source": [
    "t2.area=333"
   ]
  },
  {
   "cell_type": "code",
   "execution_count": 27,
   "id": "4ff9650b",
   "metadata": {},
   "outputs": [
    {
     "data": {
      "text/plain": [
       "333"
      ]
     },
     "execution_count": 27,
     "metadata": {},
     "output_type": "execute_result"
    }
   ],
   "source": [
    "t2.area"
   ]
  },
  {
   "cell_type": "code",
   "execution_count": 31,
   "id": "872d3d3a",
   "metadata": {},
   "outputs": [],
   "source": [
    "class Student:\n",
    "    cla=\"CLASS level Attributes/variable/characteristics/properties\"\n",
    "    def __init__(self,n1,n2,n3):\n",
    "        self.n1 = n1\n",
    "        self.n2 = n2\n",
    "        self.n3 = n3\n",
    "    def avg(self):\n",
    "        return(self.n1 +self.n2+self.n3)/3\n",
    "    def information(self):\n",
    "        return self.cla\n",
    "        "
   ]
  },
  {
   "cell_type": "code",
   "execution_count": 32,
   "id": "f9c1c5aa",
   "metadata": {},
   "outputs": [],
   "source": [
    "s1=Student(3,4,5)\n",
    "s2=Student(5,15,10)"
   ]
  },
  {
   "cell_type": "code",
   "execution_count": 33,
   "id": "6ad09531",
   "metadata": {},
   "outputs": [
    {
     "data": {
      "text/plain": [
       "4.0"
      ]
     },
     "execution_count": 33,
     "metadata": {},
     "output_type": "execute_result"
    }
   ],
   "source": [
    "s1.avg()"
   ]
  },
  {
   "cell_type": "code",
   "execution_count": 34,
   "id": "f86635af",
   "metadata": {},
   "outputs": [
    {
     "data": {
      "text/plain": [
       "4.0"
      ]
     },
     "execution_count": 34,
     "metadata": {},
     "output_type": "execute_result"
    }
   ],
   "source": [
    "Student.avg(s1)"
   ]
  },
  {
   "cell_type": "code",
   "execution_count": 35,
   "id": "2660c844",
   "metadata": {},
   "outputs": [
    {
     "data": {
      "text/plain": [
       "'CLASS level Attributes/variable/characteristics/properties'"
      ]
     },
     "execution_count": 35,
     "metadata": {},
     "output_type": "execute_result"
    }
   ],
   "source": [
    "s1.information()"
   ]
  },
  {
   "cell_type": "code",
   "execution_count": 36,
   "id": "b3d6f45c",
   "metadata": {},
   "outputs": [
    {
     "data": {
      "text/plain": [
       "'CLASS level Attributes/variable/characteristics/properties'"
      ]
     },
     "execution_count": 36,
     "metadata": {},
     "output_type": "execute_result"
    }
   ],
   "source": [
    "s2.information()"
   ]
  },
  {
   "cell_type": "code",
   "execution_count": 9,
   "id": "f7d9d869",
   "metadata": {},
   "outputs": [],
   "source": [
    "class Car:\n",
    "    def __init__(self,name,engine,capacity):\n",
    "        self.name = name\n",
    "        self.engine = engine\n",
    "        self.capacity = capacity\n",
    "        self.battry = Battry(\"Oxide\",\"21\",\"1000 watt\",23456)  # instatnce/object as an attribute\n",
    "        "
   ]
  },
  {
   "cell_type": "code",
   "execution_count": 18,
   "id": "ee91ac09",
   "metadata": {},
   "outputs": [],
   "source": [
    "class Battry:\n",
    "    def __init__(self,man, cells,watts,price):\n",
    "        self.man = man\n",
    "        self.cells = cells\n",
    "        self.watts = watts\n",
    "        self.price = price\n",
    "    def describe(self):\n",
    "        print(f\"\"\"\n",
    "          Details\n",
    "          -------\n",
    "          cells : {self.cells}\n",
    "          watts : {self.watts}\n",
    "          price : {self.price}\n",
    "        \"\"\")"
   ]
  },
  {
   "cell_type": "code",
   "execution_count": 19,
   "id": "e10566fc",
   "metadata": {},
   "outputs": [],
   "source": [
    "c1 = Car(\"Honda\",\"2000cc\",4)"
   ]
  },
  {
   "cell_type": "code",
   "execution_count": 20,
   "id": "9bca0788",
   "metadata": {},
   "outputs": [
    {
     "data": {
      "text/plain": [
       "'Oxide'"
      ]
     },
     "execution_count": 20,
     "metadata": {},
     "output_type": "execute_result"
    }
   ],
   "source": [
    "c1.battry.man"
   ]
  },
  {
   "cell_type": "code",
   "execution_count": 21,
   "id": "c8758c4f",
   "metadata": {},
   "outputs": [
    {
     "data": {
      "text/plain": [
       "'21'"
      ]
     },
     "execution_count": 21,
     "metadata": {},
     "output_type": "execute_result"
    }
   ],
   "source": [
    " c1.battry.cells"
   ]
  },
  {
   "cell_type": "code",
   "execution_count": 27,
   "id": "a0442871",
   "metadata": {},
   "outputs": [
    {
     "name": "stdout",
     "output_type": "stream",
     "text": [
      "\n",
      "          Details\n",
      "          -------\n",
      "          cells : 21\n",
      "          watts : 1000 watt\n",
      "          price : 23456\n",
      "        \n"
     ]
    }
   ],
   "source": [
    "c1.battry.describe()"
   ]
  },
  {
   "cell_type": "code",
   "execution_count": 1,
   "id": "b7ffd110",
   "metadata": {},
   "outputs": [],
   "source": [
    "class Laptop:\n",
    "    def __init__(self,brand,cpu,ram):\n",
    "        self.brand = brand\n",
    "        self.cpu = cpu\n",
    "        self.ram = ram"
   ]
  },
  {
   "cell_type": "code",
   "execution_count": 2,
   "id": "7890cb42",
   "metadata": {},
   "outputs": [],
   "source": [
    "class Student:\n",
    "    def __init__(self,name,rollno,section,brand,cpu,ram):\n",
    "        self.name = name\n",
    "        self.rollno = rollno\n",
    "        self.section = section\n",
    "        self.laptop  = Laptop(brand,cpu,ram)"
   ]
  },
  {
   "cell_type": "code",
   "execution_count": 3,
   "id": "5f7fbef2",
   "metadata": {},
   "outputs": [],
   "source": [
    "s1 = Student(\"muneeb\",123,\"c\",\"HP\",\"1200ghz\",\"16mb\")"
   ]
  },
  {
   "cell_type": "code",
   "execution_count": 5,
   "id": "0095a542",
   "metadata": {},
   "outputs": [
    {
     "data": {
      "text/plain": [
       "'HP'"
      ]
     },
     "execution_count": 5,
     "metadata": {},
     "output_type": "execute_result"
    }
   ],
   "source": [
    "s1.laptop.brand"
   ]
  },
  {
   "cell_type": "code",
   "execution_count": 6,
   "id": "a1d1a9e9",
   "metadata": {},
   "outputs": [
    {
     "data": {
      "text/plain": [
       "'muneeb'"
      ]
     },
     "execution_count": 6,
     "metadata": {},
     "output_type": "execute_result"
    }
   ],
   "source": [
    "s1.name"
   ]
  },
  {
   "cell_type": "code",
   "execution_count": 12,
   "id": "d1e5dad9",
   "metadata": {},
   "outputs": [],
   "source": [
    "class Student:\n",
    "    def __init__(self,name,rollno,section,brand,cpu,ram):\n",
    "        self.name = name\n",
    "        self.rollno = rollno\n",
    "        self.section = section\n",
    "        self.laptop = self.Laptop(brand,cpu,ram)\n",
    "    def show(self):\n",
    "        print(self.name,self.rollno)\n",
    "        slef.laptop.show()\n",
    "        \n",
    "    ###########inner class#########\n",
    "    \n",
    "    class Laptop:\n",
    "        def __init__(self,brand,cpu,ram):\n",
    "            self.brand = brand\n",
    "            self.cpu = cpu\n",
    "            self.ram = ram\n",
    "        def show(self):\n",
    "            print(self.brand,self.cpu,self.ram)"
   ]
  },
  {
   "cell_type": "code",
   "execution_count": 13,
   "id": "7c7ad61f",
   "metadata": {},
   "outputs": [],
   "source": [
    "ss1=Student(\"Bazil\",121,\"D\",\"HP\",\"1100Ghz\",\"128 MB\")"
   ]
  },
  {
   "cell_type": "code",
   "execution_count": null,
   "id": "94238604",
   "metadata": {},
   "outputs": [],
   "source": []
  },
  {
   "cell_type": "code",
   "execution_count": null,
   "id": "3fd898fe",
   "metadata": {},
   "outputs": [],
   "source": []
  },
  {
   "cell_type": "code",
   "execution_count": null,
   "id": "a58943d5",
   "metadata": {},
   "outputs": [],
   "source": []
  },
  {
   "cell_type": "code",
   "execution_count": 8,
   "id": "7832edfe",
   "metadata": {},
   "outputs": [],
   "source": [
    "s2=Student(\"Areeb\",111,\"E\")"
   ]
  },
  {
   "cell_type": "code",
   "execution_count": 9,
   "id": "2f17f355",
   "metadata": {},
   "outputs": [
    {
     "data": {
      "text/plain": [
       "'Areeb'"
      ]
     },
     "execution_count": 9,
     "metadata": {},
     "output_type": "execute_result"
    }
   ],
   "source": [
    "s2.name"
   ]
  },
  {
   "cell_type": "code",
   "execution_count": 10,
   "id": "65b731be",
   "metadata": {},
   "outputs": [
    {
     "data": {
      "text/plain": [
       "'1200GHz'"
      ]
     },
     "execution_count": 10,
     "metadata": {},
     "output_type": "execute_result"
    }
   ],
   "source": [
    "s2.laptop.cpu"
   ]
  },
  {
   "cell_type": "code",
   "execution_count": null,
   "id": "897e55fb",
   "metadata": {},
   "outputs": [],
   "source": []
  }
 ],
 "metadata": {
  "kernelspec": {
   "display_name": "Python 3 (ipykernel)",
   "language": "python",
   "name": "python3"
  },
  "language_info": {
   "codemirror_mode": {
    "name": "ipython",
    "version": 3
   },
   "file_extension": ".py",
   "mimetype": "text/x-python",
   "name": "python",
   "nbconvert_exporter": "python",
   "pygments_lexer": "ipython3",
   "version": "3.9.13"
  }
 },
 "nbformat": 4,
 "nbformat_minor": 5
}
